{
  "cells": [
    {
      "cell_type": "markdown",
      "metadata": {
        "id": "SKQ4bH7qMGrA"
      },
      "source": [
        "# Making the Most of your Colab Subscription\n",
        "\n"
      ]
    },
    {
      "cell_type": "markdown",
      "metadata": {
        "id": "65MSuHKqNeBZ"
      },
      "source": [
        "## More memory\n",
        "\n",
        "Users who have purchased one of Colab's paid plans have access to high-memory VMs when they are available.\n",
        "\n",
        "\n",
        "\n",
        "You can see how much memory you have available at any time by running the following code cell. If the execution result of running the code cell below is \"Not using a high-RAM runtime\", then you can enable a high-RAM runtime via `Runtime > Change runtime type` in the menu. Then select High-RAM in the Runtime shape dropdown. After, re-execute the code cell.\n"
      ]
    },
    {
      "cell_type": "code",
      "execution_count": 1,
      "metadata": {
        "colab": {
          "base_uri": "https://localhost:8080/"
        },
        "id": "V1G82GuO-tez",
        "outputId": "ade8d0d9-ca9d-4025-ecf9-a5cefb9d212f"
      },
      "outputs": [
        {
          "output_type": "stream",
          "name": "stdout",
          "text": [
            "Your runtime has 89.6 gigabytes of available RAM\n",
            "\n",
            "You are using a high-RAM runtime!\n"
          ]
        }
      ],
      "source": [
        "from psutil import virtual_memory\n",
        "ram_gb = virtual_memory().total / 1e9\n",
        "print('Your runtime has {:.1f} gigabytes of available RAM\\n'.format(ram_gb))\n",
        "\n",
        "if ram_gb < 20:\n",
        "  print('Not using a high-RAM runtime')\n",
        "else:\n",
        "  print('You are using a high-RAM runtime!')"
      ]
    },
    {
      "cell_type": "code",
      "source": [
        "!pip install tensorflow\n",
        "import tensorflow as tf\n",
        "import keras.models\n",
        "from tensorflow.keras.layers import Input, Dense\n",
        "from keras import utils as np_utils\n",
        "from keras.models import Sequential,Model\n",
        "from tensorflow.keras.utils import plot_model\n",
        "from tensorflow.keras import optimizers\n",
        "from keras.layers import *"
      ],
      "metadata": {
        "id": "EXIXUGEI3Yep",
        "outputId": "ad23e965-fb21-4cc4-f778-3e8a75475acd",
        "colab": {
          "base_uri": "https://localhost:8080/"
        }
      },
      "execution_count": 2,
      "outputs": [
        {
          "output_type": "stream",
          "name": "stdout",
          "text": [
            "Looking in indexes: https://pypi.org/simple, https://us-python.pkg.dev/colab-wheels/public/simple/\n",
            "Requirement already satisfied: tensorflow in /usr/local/lib/python3.7/dist-packages (2.9.2)\n",
            "Requirement already satisfied: wrapt>=1.11.0 in /usr/local/lib/python3.7/dist-packages (from tensorflow) (1.14.1)\n",
            "Requirement already satisfied: gast<=0.4.0,>=0.2.1 in /usr/local/lib/python3.7/dist-packages (from tensorflow) (0.4.0)\n",
            "Requirement already satisfied: grpcio<2.0,>=1.24.3 in /usr/local/lib/python3.7/dist-packages (from tensorflow) (1.50.0)\n",
            "Requirement already satisfied: keras-preprocessing>=1.1.1 in /usr/local/lib/python3.7/dist-packages (from tensorflow) (1.1.2)\n",
            "Requirement already satisfied: opt-einsum>=2.3.2 in /usr/local/lib/python3.7/dist-packages (from tensorflow) (3.3.0)\n",
            "Requirement already satisfied: tensorflow-io-gcs-filesystem>=0.23.1 in /usr/local/lib/python3.7/dist-packages (from tensorflow) (0.27.0)\n",
            "Requirement already satisfied: termcolor>=1.1.0 in /usr/local/lib/python3.7/dist-packages (from tensorflow) (2.1.0)\n",
            "Requirement already satisfied: absl-py>=1.0.0 in /usr/local/lib/python3.7/dist-packages (from tensorflow) (1.3.0)\n",
            "Requirement already satisfied: packaging in /usr/local/lib/python3.7/dist-packages (from tensorflow) (21.3)\n",
            "Requirement already satisfied: astunparse>=1.6.0 in /usr/local/lib/python3.7/dist-packages (from tensorflow) (1.6.3)\n",
            "Requirement already satisfied: protobuf<3.20,>=3.9.2 in /usr/local/lib/python3.7/dist-packages (from tensorflow) (3.19.6)\n",
            "Requirement already satisfied: google-pasta>=0.1.1 in /usr/local/lib/python3.7/dist-packages (from tensorflow) (0.2.0)\n",
            "Requirement already satisfied: numpy>=1.20 in /usr/local/lib/python3.7/dist-packages (from tensorflow) (1.21.6)\n",
            "Requirement already satisfied: typing-extensions>=3.6.6 in /usr/local/lib/python3.7/dist-packages (from tensorflow) (4.1.1)\n",
            "Requirement already satisfied: tensorboard<2.10,>=2.9 in /usr/local/lib/python3.7/dist-packages (from tensorflow) (2.9.1)\n",
            "Requirement already satisfied: six>=1.12.0 in /usr/local/lib/python3.7/dist-packages (from tensorflow) (1.15.0)\n",
            "Requirement already satisfied: setuptools in /usr/local/lib/python3.7/dist-packages (from tensorflow) (57.4.0)\n",
            "Requirement already satisfied: keras<2.10.0,>=2.9.0rc0 in /usr/local/lib/python3.7/dist-packages (from tensorflow) (2.9.0)\n",
            "Requirement already satisfied: h5py>=2.9.0 in /usr/local/lib/python3.7/dist-packages (from tensorflow) (3.1.0)\n",
            "Requirement already satisfied: flatbuffers<2,>=1.12 in /usr/local/lib/python3.7/dist-packages (from tensorflow) (1.12)\n",
            "Requirement already satisfied: libclang>=13.0.0 in /usr/local/lib/python3.7/dist-packages (from tensorflow) (14.0.6)\n",
            "Requirement already satisfied: tensorflow-estimator<2.10.0,>=2.9.0rc0 in /usr/local/lib/python3.7/dist-packages (from tensorflow) (2.9.0)\n",
            "Requirement already satisfied: wheel<1.0,>=0.23.0 in /usr/local/lib/python3.7/dist-packages (from astunparse>=1.6.0->tensorflow) (0.38.4)\n",
            "Requirement already satisfied: cached-property in /usr/local/lib/python3.7/dist-packages (from h5py>=2.9.0->tensorflow) (1.5.2)\n",
            "Requirement already satisfied: requests<3,>=2.21.0 in /usr/local/lib/python3.7/dist-packages (from tensorboard<2.10,>=2.9->tensorflow) (2.23.0)\n",
            "Requirement already satisfied: tensorboard-data-server<0.7.0,>=0.6.0 in /usr/local/lib/python3.7/dist-packages (from tensorboard<2.10,>=2.9->tensorflow) (0.6.1)\n",
            "Requirement already satisfied: google-auth<3,>=1.6.3 in /usr/local/lib/python3.7/dist-packages (from tensorboard<2.10,>=2.9->tensorflow) (2.14.1)\n",
            "Requirement already satisfied: markdown>=2.6.8 in /usr/local/lib/python3.7/dist-packages (from tensorboard<2.10,>=2.9->tensorflow) (3.4.1)\n",
            "Requirement already satisfied: tensorboard-plugin-wit>=1.6.0 in /usr/local/lib/python3.7/dist-packages (from tensorboard<2.10,>=2.9->tensorflow) (1.8.1)\n",
            "Requirement already satisfied: google-auth-oauthlib<0.5,>=0.4.1 in /usr/local/lib/python3.7/dist-packages (from tensorboard<2.10,>=2.9->tensorflow) (0.4.6)\n",
            "Requirement already satisfied: werkzeug>=1.0.1 in /usr/local/lib/python3.7/dist-packages (from tensorboard<2.10,>=2.9->tensorflow) (1.0.1)\n",
            "Requirement already satisfied: cachetools<6.0,>=2.0.0 in /usr/local/lib/python3.7/dist-packages (from google-auth<3,>=1.6.3->tensorboard<2.10,>=2.9->tensorflow) (5.2.0)\n",
            "Requirement already satisfied: pyasn1-modules>=0.2.1 in /usr/local/lib/python3.7/dist-packages (from google-auth<3,>=1.6.3->tensorboard<2.10,>=2.9->tensorflow) (0.2.8)\n",
            "Requirement already satisfied: rsa<5,>=3.1.4 in /usr/local/lib/python3.7/dist-packages (from google-auth<3,>=1.6.3->tensorboard<2.10,>=2.9->tensorflow) (4.9)\n",
            "Requirement already satisfied: requests-oauthlib>=0.7.0 in /usr/local/lib/python3.7/dist-packages (from google-auth-oauthlib<0.5,>=0.4.1->tensorboard<2.10,>=2.9->tensorflow) (1.3.1)\n",
            "Requirement already satisfied: importlib-metadata>=4.4 in /usr/local/lib/python3.7/dist-packages (from markdown>=2.6.8->tensorboard<2.10,>=2.9->tensorflow) (4.13.0)\n",
            "Requirement already satisfied: zipp>=0.5 in /usr/local/lib/python3.7/dist-packages (from importlib-metadata>=4.4->markdown>=2.6.8->tensorboard<2.10,>=2.9->tensorflow) (3.10.0)\n",
            "Requirement already satisfied: pyasn1<0.5.0,>=0.4.6 in /usr/local/lib/python3.7/dist-packages (from pyasn1-modules>=0.2.1->google-auth<3,>=1.6.3->tensorboard<2.10,>=2.9->tensorflow) (0.4.8)\n",
            "Requirement already satisfied: certifi>=2017.4.17 in /usr/local/lib/python3.7/dist-packages (from requests<3,>=2.21.0->tensorboard<2.10,>=2.9->tensorflow) (2022.9.24)\n",
            "Requirement already satisfied: idna<3,>=2.5 in /usr/local/lib/python3.7/dist-packages (from requests<3,>=2.21.0->tensorboard<2.10,>=2.9->tensorflow) (2.10)\n",
            "Requirement already satisfied: chardet<4,>=3.0.2 in /usr/local/lib/python3.7/dist-packages (from requests<3,>=2.21.0->tensorboard<2.10,>=2.9->tensorflow) (3.0.4)\n",
            "Requirement already satisfied: urllib3!=1.25.0,!=1.25.1,<1.26,>=1.21.1 in /usr/local/lib/python3.7/dist-packages (from requests<3,>=2.21.0->tensorboard<2.10,>=2.9->tensorflow) (1.24.3)\n",
            "Requirement already satisfied: oauthlib>=3.0.0 in /usr/local/lib/python3.7/dist-packages (from requests-oauthlib>=0.7.0->google-auth-oauthlib<0.5,>=0.4.1->tensorboard<2.10,>=2.9->tensorflow) (3.2.2)\n",
            "Requirement already satisfied: pyparsing!=3.0.5,>=2.0.2 in /usr/local/lib/python3.7/dist-packages (from packaging->tensorflow) (3.0.9)\n"
          ]
        }
      ]
    },
    {
      "cell_type": "code",
      "source": [
        "!pip install keras \n",
        "import keras\n",
        "import keras.utils\n",
        "#!pip install keras --upgrade"
      ],
      "metadata": {
        "id": "wpZsNCvE3Ybg",
        "outputId": "00f773aa-6db4-4e8e-e7ea-0c7db6a28777",
        "colab": {
          "base_uri": "https://localhost:8080/"
        }
      },
      "execution_count": 3,
      "outputs": [
        {
          "output_type": "stream",
          "name": "stdout",
          "text": [
            "Looking in indexes: https://pypi.org/simple, https://us-python.pkg.dev/colab-wheels/public/simple/\n",
            "Requirement already satisfied: keras in /usr/local/lib/python3.7/dist-packages (2.9.0)\n"
          ]
        }
      ]
    },
    {
      "cell_type": "code",
      "source": [
        "!pip install split-folders"
      ],
      "metadata": {
        "id": "ubtIhzBu3YXF",
        "outputId": "bfb00511-b3c8-41bf-89c8-60e659f3302d",
        "colab": {
          "base_uri": "https://localhost:8080/"
        }
      },
      "execution_count": 4,
      "outputs": [
        {
          "output_type": "stream",
          "name": "stdout",
          "text": [
            "Looking in indexes: https://pypi.org/simple, https://us-python.pkg.dev/colab-wheels/public/simple/\n",
            "Collecting split-folders\n",
            "  Downloading split_folders-0.5.1-py3-none-any.whl (8.4 kB)\n",
            "Installing collected packages: split-folders\n",
            "Successfully installed split-folders-0.5.1\n"
          ]
        }
      ]
    },
    {
      "cell_type": "code",
      "source": [
        "!pip install keras_metrics\n",
        "import keras_metrics as km"
      ],
      "metadata": {
        "id": "0OATSSCe3YUe",
        "outputId": "f37cb163-ef30-4b11-de29-1524d7882bcb",
        "colab": {
          "base_uri": "https://localhost:8080/"
        }
      },
      "execution_count": 5,
      "outputs": [
        {
          "output_type": "stream",
          "name": "stdout",
          "text": [
            "Looking in indexes: https://pypi.org/simple, https://us-python.pkg.dev/colab-wheels/public/simple/\n",
            "Collecting keras_metrics\n",
            "  Downloading keras_metrics-1.1.0-py2.py3-none-any.whl (5.6 kB)\n",
            "Requirement already satisfied: Keras>=2.1.5 in /usr/local/lib/python3.7/dist-packages (from keras_metrics) (2.9.0)\n",
            "Installing collected packages: keras-metrics\n",
            "Successfully installed keras-metrics-1.1.0\n"
          ]
        }
      ]
    },
    {
      "cell_type": "code",
      "source": [
        "#importing Libraries\n",
        "import numpy as np \n",
        "import pandas as pd \n",
        "import os\n",
        "\n",
        "# for generating images\n",
        "import random \n",
        "\n",
        "#data virtualization \n",
        "import matplotlib.image as mpimg \n",
        "import matplotlib.pyplot as plt\n",
        "import seaborn as sns\n",
        "\n",
        "#importing tensor-flow for model creation and its dependencies\n",
        "import tensorflow as tf\n",
        "print(tf.__version__)\n",
        "\n",
        "import cv2 #read the images \n",
        "import glob #extract filenames\n",
        "\n",
        "import torch \n",
        "\n",
        "\n",
        "import time\n",
        "import torchvision.transforms as transforms\n",
        "import random"
      ],
      "metadata": {
        "id": "afi4YLWb3YSI",
        "outputId": "bebcf257-51d3-47e7-e6f8-bad0196e5994",
        "colab": {
          "base_uri": "https://localhost:8080/"
        }
      },
      "execution_count": 6,
      "outputs": [
        {
          "output_type": "stream",
          "name": "stdout",
          "text": [
            "2.9.2\n"
          ]
        }
      ]
    },
    {
      "cell_type": "code",
      "source": [
        "from glob import glob\n",
        "\n",
        "# for enabling inline processing\n",
        "%matplotlib inline\n",
        "\n",
        "#for accessing  mydrive  data mount on googlecolab \n",
        "from google.colab.patches import cv2_imshow\n",
        "\n",
        "from google.colab import files\n",
        "\n",
        "#high quality image has high intensity of color, color of matrix are represented by rbg matrix\n",
        "\n",
        "from pathlib import Path\n",
        "from datetime import datetime\n",
        "\n",
        "from collections import namedtuple\n",
        "from matplotlib import pyplot as plt\n",
        "from tqdm import tqdm\n",
        "from sklearn.model_selection import train_test_split\n",
        "\n",
        "\n",
        "from sklearn.svm import SVC\n",
        "from tensorflow import keras\n",
        "\n",
        "from sklearn import preprocessing\n",
        "from PIL import Image\n",
        "from sklearn import tree\n",
        "from sklearn.tree import DecisionTreeClassifier\n",
        "from sklearn.metrics import classification_report,accuracy_score,confusion_matrix\n",
        "from sklearn.neighbors import KNeighborsClassifier\n"
      ],
      "metadata": {
        "id": "RKUDz-Jh3YM9"
      },
      "execution_count": 7,
      "outputs": []
    },
    {
      "cell_type": "code",
      "source": [
        "! pip install -q kaggle"
      ],
      "metadata": {
        "id": "8gdueIDN3YKG"
      },
      "execution_count": 8,
      "outputs": []
    },
    {
      "cell_type": "code",
      "source": [
        "files.upload()"
      ],
      "metadata": {
        "id": "tlfeN1l63YHw",
        "outputId": "048d001b-dfec-4d8f-dee4-862c881a3a9d",
        "colab": {
          "base_uri": "https://localhost:8080/",
          "height": 59
        }
      },
      "execution_count": 9,
      "outputs": [
        {
          "output_type": "display_data",
          "data": {
            "text/plain": [
              "<IPython.core.display.HTML object>"
            ],
            "text/html": [
              "\n",
              "     <input type=\"file\" id=\"files-e848885a-c0b9-4ff9-8d46-4bdee8039cf6\" name=\"files[]\" multiple disabled\n",
              "        style=\"border:none\" />\n",
              "     <output id=\"result-e848885a-c0b9-4ff9-8d46-4bdee8039cf6\">\n",
              "      Upload widget is only available when the cell has been executed in the\n",
              "      current browser session. Please rerun this cell to enable.\n",
              "      </output>\n",
              "      <script>// Copyright 2017 Google LLC\n",
              "//\n",
              "// Licensed under the Apache License, Version 2.0 (the \"License\");\n",
              "// you may not use this file except in compliance with the License.\n",
              "// You may obtain a copy of the License at\n",
              "//\n",
              "//      http://www.apache.org/licenses/LICENSE-2.0\n",
              "//\n",
              "// Unless required by applicable law or agreed to in writing, software\n",
              "// distributed under the License is distributed on an \"AS IS\" BASIS,\n",
              "// WITHOUT WARRANTIES OR CONDITIONS OF ANY KIND, either express or implied.\n",
              "// See the License for the specific language governing permissions and\n",
              "// limitations under the License.\n",
              "\n",
              "/**\n",
              " * @fileoverview Helpers for google.colab Python module.\n",
              " */\n",
              "(function(scope) {\n",
              "function span(text, styleAttributes = {}) {\n",
              "  const element = document.createElement('span');\n",
              "  element.textContent = text;\n",
              "  for (const key of Object.keys(styleAttributes)) {\n",
              "    element.style[key] = styleAttributes[key];\n",
              "  }\n",
              "  return element;\n",
              "}\n",
              "\n",
              "// Max number of bytes which will be uploaded at a time.\n",
              "const MAX_PAYLOAD_SIZE = 100 * 1024;\n",
              "\n",
              "function _uploadFiles(inputId, outputId) {\n",
              "  const steps = uploadFilesStep(inputId, outputId);\n",
              "  const outputElement = document.getElementById(outputId);\n",
              "  // Cache steps on the outputElement to make it available for the next call\n",
              "  // to uploadFilesContinue from Python.\n",
              "  outputElement.steps = steps;\n",
              "\n",
              "  return _uploadFilesContinue(outputId);\n",
              "}\n",
              "\n",
              "// This is roughly an async generator (not supported in the browser yet),\n",
              "// where there are multiple asynchronous steps and the Python side is going\n",
              "// to poll for completion of each step.\n",
              "// This uses a Promise to block the python side on completion of each step,\n",
              "// then passes the result of the previous step as the input to the next step.\n",
              "function _uploadFilesContinue(outputId) {\n",
              "  const outputElement = document.getElementById(outputId);\n",
              "  const steps = outputElement.steps;\n",
              "\n",
              "  const next = steps.next(outputElement.lastPromiseValue);\n",
              "  return Promise.resolve(next.value.promise).then((value) => {\n",
              "    // Cache the last promise value to make it available to the next\n",
              "    // step of the generator.\n",
              "    outputElement.lastPromiseValue = value;\n",
              "    return next.value.response;\n",
              "  });\n",
              "}\n",
              "\n",
              "/**\n",
              " * Generator function which is called between each async step of the upload\n",
              " * process.\n",
              " * @param {string} inputId Element ID of the input file picker element.\n",
              " * @param {string} outputId Element ID of the output display.\n",
              " * @return {!Iterable<!Object>} Iterable of next steps.\n",
              " */\n",
              "function* uploadFilesStep(inputId, outputId) {\n",
              "  const inputElement = document.getElementById(inputId);\n",
              "  inputElement.disabled = false;\n",
              "\n",
              "  const outputElement = document.getElementById(outputId);\n",
              "  outputElement.innerHTML = '';\n",
              "\n",
              "  const pickedPromise = new Promise((resolve) => {\n",
              "    inputElement.addEventListener('change', (e) => {\n",
              "      resolve(e.target.files);\n",
              "    });\n",
              "  });\n",
              "\n",
              "  const cancel = document.createElement('button');\n",
              "  inputElement.parentElement.appendChild(cancel);\n",
              "  cancel.textContent = 'Cancel upload';\n",
              "  const cancelPromise = new Promise((resolve) => {\n",
              "    cancel.onclick = () => {\n",
              "      resolve(null);\n",
              "    };\n",
              "  });\n",
              "\n",
              "  // Wait for the user to pick the files.\n",
              "  const files = yield {\n",
              "    promise: Promise.race([pickedPromise, cancelPromise]),\n",
              "    response: {\n",
              "      action: 'starting',\n",
              "    }\n",
              "  };\n",
              "\n",
              "  cancel.remove();\n",
              "\n",
              "  // Disable the input element since further picks are not allowed.\n",
              "  inputElement.disabled = true;\n",
              "\n",
              "  if (!files) {\n",
              "    return {\n",
              "      response: {\n",
              "        action: 'complete',\n",
              "      }\n",
              "    };\n",
              "  }\n",
              "\n",
              "  for (const file of files) {\n",
              "    const li = document.createElement('li');\n",
              "    li.append(span(file.name, {fontWeight: 'bold'}));\n",
              "    li.append(span(\n",
              "        `(${file.type || 'n/a'}) - ${file.size} bytes, ` +\n",
              "        `last modified: ${\n",
              "            file.lastModifiedDate ? file.lastModifiedDate.toLocaleDateString() :\n",
              "                                    'n/a'} - `));\n",
              "    const percent = span('0% done');\n",
              "    li.appendChild(percent);\n",
              "\n",
              "    outputElement.appendChild(li);\n",
              "\n",
              "    const fileDataPromise = new Promise((resolve) => {\n",
              "      const reader = new FileReader();\n",
              "      reader.onload = (e) => {\n",
              "        resolve(e.target.result);\n",
              "      };\n",
              "      reader.readAsArrayBuffer(file);\n",
              "    });\n",
              "    // Wait for the data to be ready.\n",
              "    let fileData = yield {\n",
              "      promise: fileDataPromise,\n",
              "      response: {\n",
              "        action: 'continue',\n",
              "      }\n",
              "    };\n",
              "\n",
              "    // Use a chunked sending to avoid message size limits. See b/62115660.\n",
              "    let position = 0;\n",
              "    do {\n",
              "      const length = Math.min(fileData.byteLength - position, MAX_PAYLOAD_SIZE);\n",
              "      const chunk = new Uint8Array(fileData, position, length);\n",
              "      position += length;\n",
              "\n",
              "      const base64 = btoa(String.fromCharCode.apply(null, chunk));\n",
              "      yield {\n",
              "        response: {\n",
              "          action: 'append',\n",
              "          file: file.name,\n",
              "          data: base64,\n",
              "        },\n",
              "      };\n",
              "\n",
              "      let percentDone = fileData.byteLength === 0 ?\n",
              "          100 :\n",
              "          Math.round((position / fileData.byteLength) * 100);\n",
              "      percent.textContent = `${percentDone}% done`;\n",
              "\n",
              "    } while (position < fileData.byteLength);\n",
              "  }\n",
              "\n",
              "  // All done.\n",
              "  yield {\n",
              "    response: {\n",
              "      action: 'complete',\n",
              "    }\n",
              "  };\n",
              "}\n",
              "\n",
              "scope.google = scope.google || {};\n",
              "scope.google.colab = scope.google.colab || {};\n",
              "scope.google.colab._files = {\n",
              "  _uploadFiles,\n",
              "  _uploadFilesContinue,\n",
              "};\n",
              "})(self);\n",
              "</script> "
            ]
          },
          "metadata": {}
        },
        {
          "output_type": "stream",
          "name": "stdout",
          "text": [
            "Saving kaggle.json to kaggle.json\n"
          ]
        },
        {
          "output_type": "execute_result",
          "data": {
            "text/plain": [
              "{'kaggle.json': b'{\"username\":\"srvsakshi03\",\"key\":\"41190edae2633d15326ff3cf72335b85\"}'}"
            ]
          },
          "metadata": {},
          "execution_count": 9
        }
      ]
    },
    {
      "cell_type": "code",
      "source": [
        "! mkdir ~/.kaggle"
      ],
      "metadata": {
        "id": "R7ndGnfq3YFY"
      },
      "execution_count": 10,
      "outputs": []
    },
    {
      "cell_type": "code",
      "source": [
        "! cp kaggle.json ~/.kaggle/"
      ],
      "metadata": {
        "id": "tKP_-Tpa3YCw"
      },
      "execution_count": 11,
      "outputs": []
    },
    {
      "cell_type": "code",
      "source": [
        "! chmod 600 ~/.kaggle/kaggle.json"
      ],
      "metadata": {
        "id": "OJZwVlDH3YAK"
      },
      "execution_count": 12,
      "outputs": []
    },
    {
      "cell_type": "code",
      "source": [
        "#below method helped me to download datasets that are not listed in the kaggle competitions.\n",
        "!kaggle datasets download -d whenamancodes/wild-animals-images -p /content/drive/MyDrive/wild-animals-images --unzip"
      ],
      "metadata": {
        "id": "ZKvrRGrS3X9D",
        "outputId": "e5bbcac9-c6a2-43b8-86b4-b73ca10fdb56",
        "colab": {
          "base_uri": "https://localhost:8080/"
        }
      },
      "execution_count": 13,
      "outputs": [
        {
          "output_type": "stream",
          "name": "stdout",
          "text": [
            "Downloading wild-animals-images.zip to /content/drive/MyDrive/wild-animals-images\n",
            " 98% 985M/0.98G [00:04<00:00, 174MB/s]\n",
            "100% 0.98G/0.98G [00:04<00:00, 222MB/s]\n"
          ]
        }
      ]
    },
    {
      "cell_type": "code",
      "source": [
        "import psutil\n",
        "\n",
        "split_bar = '='*20\n",
        "\n",
        "def usageSummary(context):\n",
        "  memory_info = psutil.virtual_memory()._asdict()\n",
        "  print(f\"{split_bar} Memory Usage {context} {split_bar}\")\n",
        "  for k,v in memory_info.items():\n",
        "    print(k, v)\n",
        "  print(f\"{split_bar} CPU Usage {context} {split_bar}\")\n",
        "  print(f\"CPU percent: {psutil.cpu_percent()}%\")\n"
      ],
      "metadata": {
        "id": "qNS7vKFU3XwC"
      },
      "execution_count": 14,
      "outputs": []
    },
    {
      "cell_type": "code",
      "source": [
        "class LabelledImage:\n",
        "  def __init__(self, image, filePath, flattened_image, label):\n",
        "    self.image = image\n",
        "    self.filePath = filePath\n",
        "    self.flattened_image = flattened_image\n",
        "    self.label = label\n",
        "\n",
        "#image processing technique to increase global contrast of an image using the image intensity histogram. This method needs no parameter\n",
        "def hist(img):\n",
        "  img_to_yuv = cv2.cvtColor(img,cv2.COLOR_BGR2YUV)\n",
        "  img_to_yuv[:,:,0] = cv2.equalizeHist(img_to_yuv[:,:,0])\n",
        "  hist_equalization_result = cv2.cvtColor(img_to_yuv, cv2.COLOR_YUV2BGR)\n",
        "  return hist_equalization_result\n",
        "\n",
        "def rotation(img):\n",
        "  rows,cols = img.shape[0],img.shape[1]\n",
        "  randDeg = random.randint(-180, 180)\n",
        "  matrix = cv2.getRotationMatrix2D((cols/2, rows/2), randDeg, 0.70)\n",
        "  rotated = cv2.warpAffine(img, matrix, (rows, cols), borderMode=cv2.BORDER_CONSTANT,borderValue=(144, 159, 162))\n",
        "  return rotated\n",
        "\n",
        "def indexToLabel(Ctype, array):\n",
        "  labels = []\n",
        "  for x in array:\n",
        "    labels.append(Ctype[x])\n",
        "  return labels\n",
        "\n",
        "def getdata(path,CType):\n",
        "  trash, images = [], []\n",
        "  #labels,filepaths,trash,flattened_images,images=[],[],[],[],[]\n",
        "  classlist=sorted(os.listdir(path))\n",
        "  print(classlist)\n",
        "  for i in classlist:\n",
        "    cpath=os.path.join(path, i)\n",
        "    sub_directory=os.listdir(cpath)[0]\n",
        "    sub_directory_path=os.path.join(cpath,sub_directory)\n",
        "    # curr = 0    \n",
        "    if os.path.isdir(sub_directory_path):\n",
        "      subpathsortedlist=sorted(os.listdir(sub_directory_path))\n",
        "      for k in range (len(CType)):\n",
        "        if CType[k] in cpath:\n",
        "          # Assign index value as the label from class type array          \n",
        "          # Issue - change string labels to int/float\n",
        "          label=k\n",
        "      for j in subpathsortedlist:\n",
        "        jpath=os.path.join(sub_directory_path,j)\n",
        "        try: # test to ensure image files are valid image files    \n",
        "            # https://stackoverflow.com/questions/40273109/convert-python-opencv-mat-image-to-tensorflow-image-data                    \n",
        "            img=cv2.imread(jpath)            \n",
        "            # Issue: if we dont resize it will create flattened arrays of different sizes - \n",
        "            # (198,)\n",
        "            # /usr/local/lib/python3.7/dist-packages/ipykernel_launcher.py:2: VisibleDeprecationWarning: Creating an ndarray from ragged nested sequences (which is a list-or-tuple of lists-or-tuples-or ndarrays with different lengths or shapes) is deprecated. If you meant to do this, you must specify 'dtype=object' when creating the ndarray.          \n",
        "            img = cv2.resize(img, (224, 224))\n",
        "\n",
        "            # # Pre processing:\n",
        "            # # Reflection/HorizontalFlip/VerticalFlip\n",
        "            # img = cv2.flip(img, 0) \n",
        "            # img = cv2.flip(img, 1)\n",
        "\n",
        "            # # Histogram Equalization\n",
        "            # img=hist(img)\n",
        "\n",
        "            # # FunctionforRotation\n",
        "            # img=rotation(img)\n",
        "            \n",
        "            # # GrayScaling\n",
        "            # # convert an RGB(3 channels) image into a Gray scale image\n",
        "            # img = cv2.cvtColor(img, cv2.COLOR_BGR2GRAY)\n",
        "            # img = np.expand_dims(img, axis=2)  \n",
        "\n",
        "            # # Normalize            \n",
        "            img = img/255\n",
        "\n",
        "            # Issue 1: Need to flatten image, as SVM base model does not accept 3-d input. shape=(198, 224, 224, 3)\n",
        "            images.append(LabelledImage(img, jpath, img.flatten(), label)) \n",
        "\n",
        "        except Exception as e:\n",
        "            #print(e)\n",
        "            trash.append(jpath)\n",
        "        # curr += 1\n",
        "        # if curr > count:\n",
        "        #   break\n",
        "  return trash, images"
      ],
      "metadata": {
        "id": "cESqYuqN4LN3"
      },
      "execution_count": 15,
      "outputs": []
    },
    {
      "cell_type": "code",
      "source": [
        "def splitdata(labelledImages):  \n",
        "  flat_data = np.array([labelledImage.flattened_image for labelledImage in labelledImages])\n",
        "  target = np.array([labelledImage.label for labelledImage in labelledImages])\n",
        "\n",
        "  print(flat_data.shape)\n",
        "\n",
        "  df=pd.DataFrame(flat_data) #dataframe\n",
        "  df['Target']=target\n",
        "\n",
        "  x=df.iloc[:,:-1] #input data \n",
        "  y=df.iloc[:,-1] #output data\n",
        "\n",
        "  x_train,x_test,y_train,y_test=train_test_split(x,y,test_size=0.2,random_state=77,stratify=y)\n",
        "  return x_train,x_test,y_train,y_test"
      ],
      "metadata": {
        "id": "1mmxx0Dp4aCq"
      },
      "execution_count": 16,
      "outputs": []
    },
    {
      "cell_type": "code",
      "source": [
        "import random\n",
        "from keras.utils import np_utils\n",
        "from tensorflow.keras.utils import to_categorical\n",
        "\n",
        "\n",
        "datasetpath=r'/content/drive/MyDrive/wild-animals-images'\n",
        "CType=['cheetah', 'fox', 'hyena','lion','tiger','wolf']\n",
        "n_classes = len(CType)\n",
        "\n",
        "# get data\n",
        "trash, labelledImages = getdata(datasetpath,CType)\n",
        "\n",
        "# shuffle images to avoid bias\n",
        "random.shuffle(labelledImages)\n",
        "\n",
        "# split flattened image data\n",
        "x_train,x_test,y_train,y_test=splitdata(labelledImages)\n",
        "\n",
        "# split 2D image data and prepare x,y for CNN\n",
        "# One major advantage of using CNNs over other algorithms is that you do not need to flatten the input images to 1D as they are capable of working with image data in 2D. This helps in retaining the “spatial” properties of images\n",
        "images = np.array([labelledImage.image for labelledImage in labelledImages])\n",
        "labels = np.array([labelledImage.label for labelledImage in labelledImages])\n",
        "X_train, X_validate, X_test = np.split(images, [int(len(images)*0.8), int(len(images)*0.9)])\n",
        "Y_train, Y_validate, Y_test = np.split(labels, [int(len(labels)*0.8), int(len(labels)*0.9)])\n",
        "\n",
        "# Issue : https://www.tensorflow.org/api_docs/python/tf/keras/utils/to_categorical\n",
        "# converting indices to binary format\n",
        "print(\"Shape before one-hot encoding: \", Y_train.shape)\n",
        "bY_train = np_utils.to_categorical(Y_train, n_classes)\n",
        "bY_test = np_utils.to_categorical(Y_test, n_classes)\n",
        "bY_validate = np_utils.to_categorical(Y_validate, n_classes)\n",
        "print(\"Shape after one-hot encoding: \", Y_train.shape)\n"
      ],
      "metadata": {
        "id": "3zoaaQ-t4d6J",
        "outputId": "6d55911e-45e6-4bf7-a148-1ff5caa73283",
        "colab": {
          "base_uri": "https://localhost:8080/"
        }
      },
      "execution_count": 17,
      "outputs": [
        {
          "output_type": "stream",
          "name": "stdout",
          "text": [
            "['cheetah-resize-224', 'cheetah-resize-300', 'cheetah-resize-512', 'fox-resize-224', 'fox-resize-300', 'fox-resize-512', 'hyena-resize-224', 'hyena-resize-300', 'hyena-resize-512', 'lion-resize-224', 'lion-resize-300', 'lion-resize-512', 'tiger-resize-224', 'tiger-resize-300', 'tiger-resize-512', 'wolf-resize-224', 'wolf-resize-300', 'wolf-resize-512']\n",
            "(5169, 150528)\n",
            "Shape before one-hot encoding:  (4135,)\n",
            "Shape after one-hot encoding:  (4135,)\n"
          ]
        }
      ]
    },
    {
      "cell_type": "markdown",
      "source": [
        "#Convolutional Neural Networks with transfer learning"
      ],
      "metadata": {
        "id": "TVz42-DG4i8j"
      }
    },
    {
      "cell_type": "code",
      "source": [
        "from keras.applications.vgg16 import VGG16\n",
        "from tqdm.keras import TqdmCallback\n",
        "\n",
        "# https://towardsdatascience.com/transfer-learning-with-vgg16-and-keras-50ea161580b4\n",
        "# include top should be False to remove the softmax layer\n",
        "\n",
        "StartTime=time.time()\n",
        "\n",
        "pretrained_model = VGG16(include_top=False, weights='imagenet')\n",
        "pretrained_model.summary()\n",
        "\n",
        "print('After VGG model')\n",
        "\n",
        "vgg_features_train = pretrained_model.predict(X_train)\n",
        "vgg_features_val = pretrained_model.predict(X_validate)\n",
        "\n",
        "print('After VGG predict')\n",
        "\n",
        "# After extracting features from pre-trained model, use them on an additional dense layer\n",
        "usageSummary(\"Before CNN run\")\n",
        "modelWithTL = Sequential()\n",
        "modelWithTL.add(Flatten(input_shape=(7,7,512)))\n",
        "modelWithTL.add(Dense(100, activation='relu'))\n",
        "modelWithTL.add(Dropout(0.5))\n",
        "modelWithTL.add(BatchNormalization())\n",
        "modelWithTL.add(Dense(n_classes, activation='softmax'))\n",
        "# compile the model\n",
        "modelWithTL.compile(optimizer='rmsprop', metrics=['accuracy'], loss='mean_squared_error')\n",
        "modelWithTL.summary()\n",
        "# train model using features generated from VGG16 model\n",
        "modelWithTL.fit(vgg_features_train, bY_train, epochs=100, batch_size=100, validation_data=(vgg_features_val, bY_validate), verbose=0, callbacks=[TqdmCallback(verbose=1)])\n",
        "\n",
        "EndTime=time.time()\n",
        "print(\"Total training time taken \",round((EndTime-StartTime)),'seconds ####')\n",
        "usageSummary(\"After CNN run\")"
      ],
      "metadata": {
        "id": "uoElo3yN4d3k",
        "outputId": "135f0293-ebb6-4321-e117-7254cb1ff5b7",
        "colab": {
          "base_uri": "https://localhost:8080/",
          "height": 986,
          "referenced_widgets": [
            "86fa5aabef614b55937d383a48e35c07",
            "8b10467ca15f42a38c2313ced8d482a7",
            "eb014668cc6044c89541b4555d1b3ea0",
            "4379e75b6eb046268a4be9d1ef183237",
            "89ff27d80b5a43c190e37fd19b4c7830",
            "880d72973a4a43c892fcb9fe57da52da",
            "2ac8840820a149089edad5aecd55105e",
            "db2f011da1654de089dd8de5cf8df259",
            "9734966ec45246c9b3e5de2dc18024f3",
            "dac1193ab9ea422aadff3054a74704ce",
            "84c1374bf1174d69b969082f2b5e144a",
            "f7f277b4db9c486fb0060241aaa8d6fa",
            "30ba253c8390468f84579a6dffc8d817",
            "3470860de5ca442fbc31d8f66f986c43",
            "00fc576cb7cf406db60a97abcbc88d17",
            "e93962c54f3748ba89aba6dcf2420e80",
            "83330a3bf6dc4d63b85440b4a9ead40d",
            "a821e2de93dc40eca3f958e42ec5fbb8",
            "0ed9172cd207439eaa5667387b3722c2",
            "6b57100f0d124b24ab27c815d8f9e9f8",
            "cfa570a47920438bb8e2ac69ed267488",
            "da0dbbdf48c9470babef6724832c4d5c"
          ]
        }
      },
      "execution_count": 18,
      "outputs": [
        {
          "output_type": "stream",
          "name": "stdout",
          "text": [
            "Downloading data from https://storage.googleapis.com/tensorflow/keras-applications/vgg16/vgg16_weights_tf_dim_ordering_tf_kernels_notop.h5\n",
            "58889256/58889256 [==============================] - 0s 0us/step\n",
            "Model: \"vgg16\"\n",
            "_________________________________________________________________\n",
            " Layer (type)                Output Shape              Param #   \n",
            "=================================================================\n",
            " input_1 (InputLayer)        [(None, None, None, 3)]   0         \n",
            "                                                                 \n",
            " block1_conv1 (Conv2D)       (None, None, None, 64)    1792      \n",
            "                                                                 \n",
            " block1_conv2 (Conv2D)       (None, None, None, 64)    36928     \n",
            "                                                                 \n",
            " block1_pool (MaxPooling2D)  (None, None, None, 64)    0         \n",
            "                                                                 \n",
            " block2_conv1 (Conv2D)       (None, None, None, 128)   73856     \n",
            "                                                                 \n",
            " block2_conv2 (Conv2D)       (None, None, None, 128)   147584    \n",
            "                                                                 \n",
            " block2_pool (MaxPooling2D)  (None, None, None, 128)   0         \n",
            "                                                                 \n",
            " block3_conv1 (Conv2D)       (None, None, None, 256)   295168    \n",
            "                                                                 \n",
            " block3_conv2 (Conv2D)       (None, None, None, 256)   590080    \n",
            "                                                                 \n",
            " block3_conv3 (Conv2D)       (None, None, None, 256)   590080    \n",
            "                                                                 \n",
            " block3_pool (MaxPooling2D)  (None, None, None, 256)   0         \n",
            "                                                                 \n",
            " block4_conv1 (Conv2D)       (None, None, None, 512)   1180160   \n",
            "                                                                 \n",
            " block4_conv2 (Conv2D)       (None, None, None, 512)   2359808   \n",
            "                                                                 \n",
            " block4_conv3 (Conv2D)       (None, None, None, 512)   2359808   \n",
            "                                                                 \n",
            " block4_pool (MaxPooling2D)  (None, None, None, 512)   0         \n",
            "                                                                 \n",
            " block5_conv1 (Conv2D)       (None, None, None, 512)   2359808   \n",
            "                                                                 \n",
            " block5_conv2 (Conv2D)       (None, None, None, 512)   2359808   \n",
            "                                                                 \n",
            " block5_conv3 (Conv2D)       (None, None, None, 512)   2359808   \n",
            "                                                                 \n",
            " block5_pool (MaxPooling2D)  (None, None, None, 512)   0         \n",
            "                                                                 \n",
            "=================================================================\n",
            "Total params: 14,714,688\n",
            "Trainable params: 14,714,688\n",
            "Non-trainable params: 0\n",
            "_________________________________________________________________\n",
            "After VGG model\n",
            "130/130 [==============================] - 11s 25ms/step\n",
            "17/17 [==============================] - 1s 37ms/step\n",
            "After VGG predict\n",
            "==================== Memory Usage Before CNN run ====================\n",
            "total 89639694336\n",
            "available 67458428928\n",
            "percent 24.7\n",
            "used 35963912192\n",
            "free 44670431232\n",
            "active 747855872\n",
            "inactive 43461287936\n",
            "buffers 342052864\n",
            "cached 8663298048\n",
            "shared 13893632\n",
            "slab 315334656\n",
            "==================== CPU Usage Before CNN run ====================\n",
            "CPU percent: 11.8%\n",
            "Model: \"sequential\"\n",
            "_________________________________________________________________\n",
            " Layer (type)                Output Shape              Param #   \n",
            "=================================================================\n",
            " flatten (Flatten)           (None, 25088)             0         \n",
            "                                                                 \n",
            " dense (Dense)               (None, 100)               2508900   \n",
            "                                                                 \n",
            " dropout (Dropout)           (None, 100)               0         \n",
            "                                                                 \n",
            " batch_normalization (BatchN  (None, 100)              400       \n",
            " ormalization)                                                   \n",
            "                                                                 \n",
            " dense_1 (Dense)             (None, 6)                 606       \n",
            "                                                                 \n",
            "=================================================================\n",
            "Total params: 2,509,906\n",
            "Trainable params: 2,509,706\n",
            "Non-trainable params: 200\n",
            "_________________________________________________________________\n"
          ]
        },
        {
          "output_type": "display_data",
          "data": {
            "text/plain": [
              "0epoch [00:00, ?epoch/s]"
            ],
            "application/vnd.jupyter.widget-view+json": {
              "version_major": 2,
              "version_minor": 0,
              "model_id": "86fa5aabef614b55937d383a48e35c07"
            }
          },
          "metadata": {}
        },
        {
          "output_type": "display_data",
          "data": {
            "text/plain": [
              "0batch [00:00, ?batch/s]"
            ],
            "application/vnd.jupyter.widget-view+json": {
              "version_major": 2,
              "version_minor": 0,
              "model_id": "f7f277b4db9c486fb0060241aaa8d6fa"
            }
          },
          "metadata": {}
        },
        {
          "output_type": "stream",
          "name": "stdout",
          "text": [
            "Total training time taken  50 seconds ####\n",
            "==================== Memory Usage After CNN run ====================\n",
            "total 89639694336\n",
            "available 67320692736\n",
            "percent 24.9\n",
            "used 36104003584\n",
            "free 44503851008\n",
            "active 748040192\n",
            "inactive 43622084608\n",
            "buffers 342233088\n",
            "cached 8689606656\n",
            "shared 13897728\n",
            "slab 316239872\n",
            "==================== CPU Usage After CNN run ====================\n",
            "CPU percent: 15.6%\n"
          ]
        }
      ]
    },
    {
      "cell_type": "code",
      "source": [
        "StartTime=time.time()\n",
        "# model will predict an array of probabilites for each label, the max prob will give us the most likely label for that image\n",
        "Y_result = modelWithTL.predict(vgg_features_train)\n",
        "Y_pred = []\n",
        "for arr in Y_result:\n",
        "  indices = np.where(arr == np.amax(arr))\n",
        "  Y_pred.append(indices[0][0])\n",
        "Y_pred = np.array(Y_pred)\n",
        "Y_pred = np_utils.to_categorical(Y_pred, n_classes)\n",
        "\n",
        "EndTime=time.time()\n",
        "print(\"Total test time taken \",round((EndTime-StartTime)),'seconds ####')\n",
        "print(f\"CNN is {accuracy_score(Y_pred,bY_train)*100}% accurate\")"
      ],
      "metadata": {
        "id": "MmQdhcJr4nW1",
        "outputId": "a1b04c5b-d61f-4d49-e022-d246a75eece1",
        "colab": {
          "base_uri": "https://localhost:8080/"
        }
      },
      "execution_count": 19,
      "outputs": [
        {
          "output_type": "stream",
          "name": "stdout",
          "text": [
            "130/130 [==============================] - 0s 2ms/step\n",
            "Total test time taken  1 seconds ####\n",
            "CNN is 100.0% accurate\n"
          ]
        }
      ]
    },
    {
      "cell_type": "markdown",
      "source": [
        "# Convolutional Neural Networks without transfer learning"
      ],
      "metadata": {
        "id": "-zhmvlIM4tE-"
      }
    },
    {
      "cell_type": "code",
      "source": [
        "import keras_metrics as km\n",
        "\n",
        "# https://www.analyticsvidhya.com/blog/2020/10/create-image-classification-model-python-keras/\n",
        "# issue::reshape your input_image to 4D [batch_size, img_height, img_width, number_of_channels]\n",
        "# p=np.expand_dims(random_test_frame,axis=0) To clarify, your input should of shape (no. of images,64,64,3) In this case no. Of images is 1 hence Your shape must be (1,64,64,3)\n",
        "\n",
        "# Issue: https://towardsdatascience.com/a-comprehensive-guide-to-convolutional-neural-networks-the-eli5-way-3bd2b1164a53\n",
        "# CNN takes advantage of pixel resprented in n-D array.\n",
        "# An image is nothing but a matrix of pixel values, right? So why not just flatten the image (e.g. 3x3 image matrix into a 9x1 vector) and feed it to a Multi-Level Perceptron for classification purposes? Uh.. not really.\n",
        "# In cases of extremely basic binary images, the method might show an average precision score while performing prediction of classes but would have little to no accuracy when it comes to complex images having pixel dependencies throughout.\n",
        "# A ConvNet is able to successfully capture the Spatial and Temporal dependencies in an image through the application of relevant filters. The architecture performs a better fitting to the image dataset due to the reduction in the number of parameters involved and the reusability of weights. In other words, the network can be trained to understand the sophistication of the image better.\n",
        "\n",
        "usageSummary(\"Before CNN run\")\n",
        "\n",
        "# 1rst version\n",
        "cnn_model=Sequential() \n",
        "cnn_model.add(Convolution2D(16,kernel_size=(3,3),strides=(1,1),input_shape=X_train.shape[1:],activation='relu'))\n",
        "cnn_model.add(MaxPool2D(pool_size=(2,2)))\n",
        "# cnn_model.add(Convolution2D(32,kernel_size=(3,3),strides=(1,1),activation='relu')) \n",
        "# cnn_model.add(MaxPool2D(pool_size=(2,2)))\n",
        "\n",
        "# flattening\n",
        "cnn_model.add(Flatten())\n",
        "\n",
        "#fully connected neural Network\n",
        "cnn_model.add(Dense(64,activation='relu'))\n",
        "# Issue - Dense layer was expecting the output neurons size to be 1 rather than 6. \n",
        "# https://stackoverflow.com/questions/52147847/expected-shape-of-keras-dense-layer-output-with-300-units-is-1\n",
        "# The problem with using sparse categorical cross-entropy is that this loss makes the assumption that the model outputs a scalar (a one element vector), and this is checked during runtime, and this check fails and that's why you get an error.\n",
        "cnn_model.add(Dense(n_classes, activation='softmax'))\n",
        "cnn_model.compile(loss='categorical_crossentropy',optimizer='rmsprop',metrics=[\"accuracy\"])\n",
        "\n",
        "# Issue: transforming indices to binary enables us to use categorical_crossentropy which showed higher accuracy\n",
        "# cnn_model.compile(optimizer='Adam', loss='mean_squared_error', metrics=[\"accuracy\"])\n",
        "\n",
        "# cnn_model.summary()\n",
        "print(X_train.shape)\n",
        "print(bY_train.shape)\n",
        "\n",
        "history = cnn_model.fit(X_train, bY_train, epochs=100, batch_size=100, verbose=0, callbacks=[TqdmCallback(verbose=1)])\n",
        "usageSummary(\"After CNN run\")\n"
      ],
      "metadata": {
        "id": "p3VL5-gj4nUQ",
        "outputId": "23cbc1da-dabf-484a-dc6d-2633b681b3a3",
        "colab": {
          "base_uri": "https://localhost:8080/",
          "height": 325,
          "referenced_widgets": [
            "903d4b33f8ae4b5ca1bd1ee4d59c78da",
            "e90fa7d5220944eabe5360ee230743ce",
            "882af22e4997459babb91e6b1cfd9840",
            "73f6a35a084a4193b21428eeba6bcdcc",
            "fb73c052908f4975a0da5d8718e2f2f7",
            "39b7f3dce39547d788adc3fd04fedc07",
            "67e807c5f2a448048d0a3eef64b6fded",
            "e7883c9498f44863874d909c2a12b52e",
            "8131d9ce01e14a48b20e842fd4663df2",
            "daa43fae203c4b948c9e9d994b15d07b",
            "27ef683919c74703beb725fd079e30b2",
            "c97e640ae1584178855842c1a99fd50c",
            "ef6ef1d5014445359f24ff77272a6e36",
            "379521211bbe4c078135b298be0382db",
            "33e87d88a96b4410b51781ccee37b812",
            "6e51c492c910494abd5f37f5388f9782",
            "9f0048f0c61d41588bd877bd58578236",
            "9756324909114dba8ec25409e894f619",
            "ce23ad2ae23a45d49b15a9189afc6172",
            "8ca3f1dcaab54ddf971b3cbf21f48d54",
            "1a440fb2d6264b88bb6aab82c0478f26",
            "ec9950611aa3424eb231f3edd6557b26"
          ]
        }
      },
      "execution_count": 20,
      "outputs": [
        {
          "output_type": "stream",
          "name": "stdout",
          "text": [
            "==================== Memory Usage Before CNN run ====================\n",
            "total 89639694336\n",
            "available 66996772864\n",
            "percent 25.3\n",
            "used 36427915264\n",
            "free 44179267584\n",
            "active 748056576\n",
            "inactive 43947311104\n",
            "buffers 342257664\n",
            "cached 8690253824\n",
            "shared 13897728\n",
            "slab 316293120\n",
            "==================== CPU Usage Before CNN run ====================\n",
            "CPU percent: 11.5%\n",
            "(4135, 224, 224, 3)\n",
            "(4135, 6)\n"
          ]
        },
        {
          "output_type": "display_data",
          "data": {
            "text/plain": [
              "0epoch [00:00, ?epoch/s]"
            ],
            "application/vnd.jupyter.widget-view+json": {
              "version_major": 2,
              "version_minor": 0,
              "model_id": "903d4b33f8ae4b5ca1bd1ee4d59c78da"
            }
          },
          "metadata": {}
        },
        {
          "output_type": "display_data",
          "data": {
            "text/plain": [
              "0batch [00:00, ?batch/s]"
            ],
            "application/vnd.jupyter.widget-view+json": {
              "version_major": 2,
              "version_minor": 0,
              "model_id": "c97e640ae1584178855842c1a99fd50c"
            }
          },
          "metadata": {}
        },
        {
          "output_type": "stream",
          "name": "stdout",
          "text": [
            "==================== Memory Usage After CNN run ====================\n",
            "total 89639694336\n",
            "available 64125345792\n",
            "percent 28.5\n",
            "used 39301550080\n",
            "free 41090674688\n",
            "active 748544000\n",
            "inactive 47036534784\n",
            "buffers 342708224\n",
            "cached 8904761344\n",
            "shared 13901824\n",
            "slab 317894656\n",
            "==================== CPU Usage After CNN run ====================\n",
            "CPU percent: 14.6%\n"
          ]
        }
      ]
    },
    {
      "cell_type": "code",
      "source": [
        "StartTime=time.time()\n",
        "# model will predict an array of probabilites for each label\n",
        "# the max prob will give us the most likely label for that image\n",
        "Y_result = cnn_model.predict(X_test)\n",
        "Y_pred = []\n",
        "for arr in Y_result:\n",
        "  indices = np.where(arr == np.amax(arr))\n",
        "  # print(type(indices[0][0]))\n",
        "  Y_pred.append(indices[0][0])\n",
        "Y_pred = np.array(Y_pred)\n",
        "Y_pred = np_utils.to_categorical(Y_pred, n_classes)\n",
        "\n",
        "EndTime=time.time()\n",
        "print(f\"CNN is {accuracy_score(Y_pred,bY_test)*100}% accurate\")"
      ],
      "metadata": {
        "id": "bL203giS4nSI",
        "outputId": "edf8e4e0-f9f0-4356-9bd3-c52fc632cce6",
        "colab": {
          "base_uri": "https://localhost:8080/"
        }
      },
      "execution_count": 21,
      "outputs": [
        {
          "output_type": "stream",
          "name": "stdout",
          "text": [
            "17/17 [==============================] - 0s 7ms/step\n",
            "CNN is 98.25918762088975% accurate\n"
          ]
        }
      ]
    },
    {
      "cell_type": "markdown",
      "source": [
        "# SVM with CNN for feature extraction"
      ],
      "metadata": {
        "id": "KEH8qWnE44v1"
      }
    },
    {
      "cell_type": "code",
      "source": [
        "# https://stackoverflow.com/questions/71130269/how-to-add-a-traditional-classifiersvm-to-my-cnn-model\n",
        "\n",
        "# 1rst version\n",
        "cnn_model=Sequential() \n",
        "cnn_model.add(Convolution2D(16,kernel_size=(3,3),strides=(1,1),input_shape=X_train.shape[1:],activation='relu'))\n",
        "cnn_model.add(MaxPool2D(pool_size=(2,2)))\n",
        "cnn_model.add(Convolution2D(32,kernel_size=(3,3),strides=(1,1),activation='relu')) \n",
        "cnn_model.add(MaxPool2D(pool_size=(2,2)))\n",
        "\n",
        "#flattening\n",
        "cnn_model.add(Flatten())\n",
        "\n",
        "#fully connected neural Network\n",
        "cnn_model.add(Dense(64,activation='relu'))\n",
        "# Issue - Dense layer was expecting the output neurons size to be 1 rather than 6. \n",
        "# https://stackoverflow.com/questions/52147847/expected-shape-of-keras-dense-layer-output-with-300-units-is-1\n",
        "# The problem with using sparse categorical cross-entropy is that this loss makes the assumption that the model outputs a scalar (a one element vector), and this is checked during runtime, and this check fails and that's why you get an error.\n",
        "cnn_model.add(Dense(6 ,activation='softmax', name='dense2'))\n",
        "# cnn_model.compile(loss='categorical_crossentropy',optimizer='rmsprop',metrics=[\"accuracy\"])\n",
        "cnn_model.compile(optimizer='Adam', loss='mean_squared_error', metrics=[\"accuracy\"])\n",
        "\n",
        "model_feat = Model(inputs=cnn_model.input,outputs=cnn_model.get_layer('dense2').output)\n",
        "feat_train = model_feat.predict(X_train)\n",
        "feat_test = model_feat.predict(X_test)\n"
      ],
      "metadata": {
        "id": "ZLQbiEBy4nM8",
        "outputId": "bd765026-19e5-4155-d79b-99300de02db1",
        "colab": {
          "base_uri": "https://localhost:8080/"
        }
      },
      "execution_count": 22,
      "outputs": [
        {
          "output_type": "stream",
          "name": "stdout",
          "text": [
            "130/130 [==============================] - 1s 6ms/step\n",
            "17/17 [==============================] - 0s 6ms/step\n"
          ]
        }
      ]
    },
    {
      "cell_type": "code",
      "source": [
        "svm = SVC(kernel='rbf')\n",
        "# print(indexToLabel(CType, Y_test))\n",
        "# training\n",
        "model_history=svm.fit(feat_test,Y_test)\n",
        "# prediction \n",
        "y_pred=svm.predict(feat_test)\n",
        "# accuracy\n",
        "# print(indexToLabel(CType, y_pred))\n",
        "svm.score(feat_test,Y_test)"
      ],
      "metadata": {
        "id": "h4-OiP6M4d1L",
        "outputId": "e386d436-1b29-4d3e-b85e-af70aa6f7b2c",
        "colab": {
          "base_uri": "https://localhost:8080/"
        }
      },
      "execution_count": 23,
      "outputs": [
        {
          "output_type": "execute_result",
          "data": {
            "text/plain": [
              "0.2804642166344294"
            ]
          },
          "metadata": {},
          "execution_count": 23
        }
      ]
    },
    {
      "cell_type": "markdown",
      "source": [
        "# SVM with flattened image"
      ],
      "metadata": {
        "id": "OPCkKi0C4-YA"
      }
    },
    {
      "cell_type": "code",
      "source": [
        "# https://medium.com/analytics-vidhya/image-classification-using-machine-learning-support-vector-machine-svm-dc7a0ec92e01\n",
        "\n",
        "#measuring the time taken by model to train\n",
        "usageSummary(\"Before SVM run\")\n",
        "\n",
        "StartTime=time.time()\n",
        "svm = SVC(kernel='rbf')\n",
        "print('TYPE:', type(x_train), type(y_train))\n",
        "print('SHAPE:', x_train.shape, y_train.shape)\n",
        "model_history=svm.fit(x_train,y_train)\n",
        "EndTime=time.time()\n",
        "\n",
        "usageSummary(\"After SVM run\")\n",
        "print(\"Total training time taken \",round((EndTime-StartTime)),'seconds ####')\n",
        "\n",
        "StartTime=time.time()\n",
        "y_pred=svm.predict(x_test)\n",
        "EndTime=time.time()\n",
        "print(\"Total test time taken \",round((EndTime-StartTime)),'seconds ####')\n",
        "print(f\"The svm is {accuracy_score(y_pred,y_test)*100}% accurate\")\n",
        "\n",
        "svm.score(x_test,y_test)"
      ],
      "metadata": {
        "id": "1RdHgius4dyq",
        "outputId": "ecdc2fde-83b4-435a-ac55-80402ac3acdf",
        "colab": {
          "base_uri": "https://localhost:8080/"
        }
      },
      "execution_count": 24,
      "outputs": [
        {
          "output_type": "stream",
          "name": "stdout",
          "text": [
            "==================== Memory Usage Before SVM run ====================\n",
            "total 89639694336\n",
            "available 61352894464\n",
            "percent 31.6\n",
            "used 42073989120\n",
            "free 38318030848\n",
            "active 748576768\n",
            "inactive 49804509184\n",
            "buffers 342732800\n",
            "cached 8904941568\n",
            "shared 13901824\n",
            "slab 318210048\n",
            "==================== CPU Usage Before SVM run ====================\n",
            "CPU percent: 10.6%\n",
            "TYPE: <class 'pandas.core.frame.DataFrame'> <class 'pandas.core.series.Series'>\n",
            "SHAPE: (4135, 150528) (4135,)\n",
            "==================== Memory Usage After SVM run ====================\n",
            "total 89639694336\n",
            "available 61347926016\n",
            "percent 31.6\n",
            "used 47062056960\n",
            "free 33326522368\n",
            "active 751353856\n",
            "inactive 54790598656\n",
            "buffers 345419776\n",
            "cached 8905695232\n",
            "shared 13901824\n",
            "slab 317042688\n",
            "==================== CPU Usage After SVM run ====================\n",
            "CPU percent: 99.1%\n",
            "Total training time taken  487 seconds ####\n",
            "Total test time taken  1629 seconds ####\n",
            "The svm is 87.62088974854933% accurate\n"
          ]
        },
        {
          "output_type": "execute_result",
          "data": {
            "text/plain": [
              "0.8762088974854932"
            ]
          },
          "metadata": {},
          "execution_count": 24
        }
      ]
    },
    {
      "cell_type": "markdown",
      "source": [
        "# Decision Tree with CNN for feature extraction"
      ],
      "metadata": {
        "id": "EviraaVu5K7p"
      }
    },
    {
      "cell_type": "code",
      "source": [
        "dt = DecisionTreeClassifier(criterion = \"entropy\", random_state = 100,max_depth=3, min_samples_leaf=5)\n",
        "\n",
        "# Training\n",
        "StartTime=time.time()\n",
        "model_history=dt.fit(feat_train,Y_train)\n",
        "EndTime=time.time()\n",
        "usageSummary(\"After DecisionTreeClassifier run\")\n",
        "print(\"Total training time taken \",round((EndTime-StartTime)),'seconds ####')\n",
        "\n",
        "# Accuracy\n",
        "StartTime=time.time()\n",
        "y_pred=dt.predict(feat_train)\n",
        "print(f\"The decision tree is {accuracy_score(y_pred,Y_train)*100}% accurate\")\n",
        "EndTime=time.time()\n",
        "print(\"Total testing time taken \",round((EndTime-StartTime)),'seconds ####')\n",
        "# dt.score(feat_train,Y_train)"
      ],
      "metadata": {
        "id": "kWK1hcvG4dt6",
        "outputId": "5977d226-e7b6-48d8-f0e4-6c892fd4fb3e",
        "colab": {
          "base_uri": "https://localhost:8080/"
        }
      },
      "execution_count": 26,
      "outputs": [
        {
          "output_type": "stream",
          "name": "stdout",
          "text": [
            "==================== Memory Usage After DecisionTreeClassifier run ====================\n",
            "total 89639694336\n",
            "available 60961923072\n",
            "percent 32.0\n",
            "used 47277359104\n",
            "free 33100537856\n",
            "active 759427072\n",
            "inactive 55002128384\n",
            "buffers 353038336\n",
            "cached 8908759040\n",
            "shared 13910016\n",
            "slab 318291968\n",
            "==================== CPU Usage After DecisionTreeClassifier run ====================\n",
            "CPU percent: 92.6%\n",
            "Total training time taken  0 seconds ####\n",
            "The decision tree is 26.723095525997582% accurate\n",
            "Total testing time taken  0 seconds ####\n"
          ]
        }
      ]
    },
    {
      "cell_type": "markdown",
      "source": [
        "# Decision Tree with flattened image array"
      ],
      "metadata": {
        "id": "IXe3Bdpu6PQ0"
      }
    },
    {
      "cell_type": "code",
      "source": [
        "dt = DecisionTreeClassifier(criterion = \"entropy\", random_state = 100,max_depth=3, min_samples_leaf=5)\n",
        "\n",
        "StartTime=time.time()\n",
        "dt.fit(x_train,y_train)\n",
        "EndTime=time.time()\n",
        "usageSummary(\"After DecisionTreeClassifier run\")\n",
        "print(\"Total training time taken \",round((EndTime-StartTime)),'seconds ####')\n",
        "\n",
        "# Accuracy\n",
        "StartTime=time.time()\n",
        "y_pred=dt.predict(x_test)\n",
        "print(f\"The decision tree is {accuracy_score(y_pred,y_test)*100}% accurate\")\n",
        "EndTime=time.time()\n",
        "print(\"Total testing time taken \",round((EndTime-StartTime)),'seconds ####')\n",
        "\n",
        "# dt.score(x_test,y_test)\n"
      ],
      "metadata": {
        "id": "iGOoVwcy6OrG",
        "outputId": "a3bc549c-43c8-4ce9-d2ed-92c7c4af208c",
        "colab": {
          "base_uri": "https://localhost:8080/"
        }
      },
      "execution_count": 30,
      "outputs": [
        {
          "output_type": "stream",
          "name": "stdout",
          "text": [
            "==================== Memory Usage After DecisionTreeClassifier run ====================\n",
            "total 89639694336\n",
            "available 60164022272\n",
            "percent 32.9\n",
            "used 49880043520\n",
            "free 30492123136\n",
            "active 761970688\n",
            "inactive 57602969600\n",
            "buffers 355573760\n",
            "cached 8911953920\n",
            "shared 13910016\n",
            "slab 319504384\n",
            "==================== CPU Usage After DecisionTreeClassifier run ====================\n",
            "CPU percent: 8.2%\n",
            "Total training time taken  193 seconds ####\n",
            "The decision tree is 29.40038684719536% accurate\n",
            "Total testing time taken  1 seconds ####\n"
          ]
        }
      ]
    },
    {
      "cell_type": "markdown",
      "source": [
        "# K Nearest Neighbor with CNN for feature extraction"
      ],
      "metadata": {
        "id": "sGsObZmE6U-f"
      }
    },
    {
      "cell_type": "code",
      "source": [
        "knn = KNeighborsClassifier(n_neighbors=3)\n",
        "\n",
        "# Training\n",
        "StartTime=time.time()\n",
        "model_history=knn.fit(feat_train,Y_train)\n",
        "EndTime=time.time()\n",
        "usageSummary(\"After KNeighborsClassifier run\")\n",
        "print(\"Total training time taken \",round((EndTime-StartTime)),'seconds ####')\n",
        "\n",
        "# Accuracy\n",
        "StartTime=time.time()\n",
        "y_pred=knn.predict(feat_train)\n",
        "\n",
        "print(f\"The K Nearest Neighbor  is {accuracy_score(y_pred,Y_train)*100}% accurate\")\n",
        "EndTime=time.time()\n",
        "usageSummary(\"After KNeighborsClassifier run\")\n",
        "print(\"Total testing time taken \",round((EndTime-StartTime)),'seconds ####')\n",
        "\n",
        "knn.score(feat_train,Y_train)"
      ],
      "metadata": {
        "id": "xpNISUQT4drT",
        "outputId": "33d41426-7a0a-4b45-b22d-d52358362a00",
        "colab": {
          "base_uri": "https://localhost:8080/"
        }
      },
      "execution_count": 31,
      "outputs": [
        {
          "output_type": "stream",
          "name": "stdout",
          "text": [
            "==================== Memory Usage After KNeighborsClassifier run ====================\n",
            "total 89639694336\n",
            "available 60164100096\n",
            "percent 32.9\n",
            "used 49880375296\n",
            "free 30491791360\n",
            "active 761962496\n",
            "inactive 57603002368\n",
            "buffers 355573760\n",
            "cached 8911953920\n",
            "shared 13910016\n",
            "slab 319475712\n",
            "==================== CPU Usage After KNeighborsClassifier run ====================\n",
            "CPU percent: 9.3%\n",
            "Total training time taken  0 seconds ####\n",
            "The K Nearest Neighbor  is 96.590084643289% accurate\n",
            "==================== Memory Usage After KNeighborsClassifier run ====================\n",
            "total 89639694336\n",
            "available 60163813376\n",
            "percent 32.9\n",
            "used 49880662016\n",
            "free 30491500544\n",
            "active 761962496\n",
            "inactive 57603002368\n",
            "buffers 355573760\n",
            "cached 8911958016\n",
            "shared 13910016\n",
            "slab 319479808\n",
            "==================== CPU Usage After KNeighborsClassifier run ====================\n",
            "CPU percent: 10.3%\n",
            "Total testing time taken  0 seconds ####\n"
          ]
        },
        {
          "output_type": "execute_result",
          "data": {
            "text/plain": [
              "0.96590084643289"
            ]
          },
          "metadata": {},
          "execution_count": 31
        }
      ]
    },
    {
      "cell_type": "markdown",
      "source": [
        "# K Nearest Neighbor with flattened image array"
      ],
      "metadata": {
        "id": "ynssyS0s6bLf"
      }
    },
    {
      "cell_type": "code",
      "source": [
        "knn = KNeighborsClassifier(n_neighbors=3)\n",
        "\n",
        "StartTime=time.time()\n",
        "knn.fit(x_train,y_train)\n",
        "EndTime=time.time()\n",
        "usageSummary(\"After KNeighborsClassifier run\")\n",
        "print(\"Total training time taken \",round((EndTime-StartTime)),'seconds ####')\n",
        "\n",
        "# Accuracy\n",
        "StartTime=time.time()\n",
        "y_pred=knn.predict(x_test)\n",
        "print(f\"The K Nearest Neighbor is {accuracy_score(y_pred,y_test)*100}% accurate\")\n",
        "usageSummary(\"After KNeighborsClassifier run\")\n",
        "print(\"Total testing time taken \",round((EndTime-StartTime)),'seconds ####')\n",
        "\n",
        "# knn.score(x_test,y_test)"
      ],
      "metadata": {
        "id": "-FZWsKI54do-",
        "outputId": "7ec6431f-f374-4d4f-c3b0-3453c66e96b5",
        "colab": {
          "base_uri": "https://localhost:8080/"
        }
      },
      "execution_count": 32,
      "outputs": [
        {
          "output_type": "stream",
          "name": "stdout",
          "text": [
            "==================== Memory Usage After KNeighborsClassifier run ====================\n",
            "total 89639694336\n",
            "available 60164431872\n",
            "percent 32.9\n",
            "used 49880068096\n",
            "free 30491963392\n",
            "active 761966592\n",
            "inactive 57603604480\n",
            "buffers 355573760\n",
            "cached 8912089088\n",
            "shared 13910016\n",
            "slab 319389696\n",
            "==================== CPU Usage After KNeighborsClassifier run ====================\n",
            "CPU percent: 9.1%\n",
            "Total training time taken  1 seconds ####\n",
            "The K Nearest Neighbor is 75.43520309477756% accurate\n",
            "==================== Memory Usage After KNeighborsClassifier run ====================\n",
            "total 89639694336\n",
            "available 60164100096\n",
            "percent 32.9\n",
            "used 49876209664\n",
            "free 30495694848\n",
            "active 762052608\n",
            "inactive 57599287296\n",
            "buffers 355655680\n",
            "cached 8912134144\n",
            "shared 13910016\n",
            "slab 319311872\n",
            "==================== CPU Usage After KNeighborsClassifier run ====================\n",
            "CPU percent: 72.5%\n",
            "Total testing time taken  0 seconds ####\n"
          ]
        }
      ]
    },
    {
      "cell_type": "code",
      "source": [
        "cm = confusion_matrix(y_test, y_pred)\n",
        "print(cm)"
      ],
      "metadata": {
        "id": "dUfoSseF6etI",
        "outputId": "d6368e70-4eb8-4d9f-9c51-18220186f5aa",
        "colab": {
          "base_uri": "https://localhost:8080/"
        }
      },
      "execution_count": 33,
      "outputs": [
        {
          "output_type": "stream",
          "name": "stdout",
          "text": [
            "[[162   6  14  21   0   2]\n",
            " [ 20 114   4   5   5   2]\n",
            " [ 23   6 127  21   2   4]\n",
            " [  6   5   8 154   2   2]\n",
            " [ 18   9  16  11 105   2]\n",
            " [  7  11   9  11   2 118]]\n"
          ]
        }
      ]
    },
    {
      "cell_type": "markdown",
      "source": [
        "# Artificial Neural Networks"
      ],
      "metadata": {
        "id": "QnhJLXnL6h-_"
      }
    },
    {
      "cell_type": "code",
      "source": [
        "model_ann = Sequential()\n",
        "model_ann.add(Dense(16, input_shape=x_train.shape[1:], activation='relu'))\n",
        "model_ann.add(Dropout(0.4))\n",
        "model_ann.add(Dense(32, activation='relu'))\n",
        "model_ann.add(Dropout(0.6))\n",
        "model_ann.add(Dense(2, activation='softmax'))\n",
        "model_ann.add(Flatten())\n",
        "\n",
        "model_ann.compile(loss='binary_crossentropy', optimizer='adam', metrics=['accuracy'])\n",
        "history = model_ann.fit(x_train, y_train,epochs=10,batch_size=100)\n",
        "model_ann.summary()"
      ],
      "metadata": {
        "id": "hk8-zNJa6eqg",
        "outputId": "a881af8e-12ff-433e-bd35-cdc0f553e380",
        "colab": {
          "base_uri": "https://localhost:8080/"
        }
      },
      "execution_count": 39,
      "outputs": [
        {
          "output_type": "stream",
          "name": "stdout",
          "text": [
            "Epoch 1/10\n",
            "42/42 [==============================] - 2s 32ms/step - loss: 5.0582 - accuracy: 0.1671\n",
            "Epoch 2/10\n",
            "42/42 [==============================] - 1s 30ms/step - loss: 4.9535 - accuracy: 0.1586\n",
            "Epoch 3/10\n",
            "42/42 [==============================] - 1s 33ms/step - loss: 4.4529 - accuracy: 0.1640\n",
            "Epoch 4/10\n",
            "42/42 [==============================] - 1s 33ms/step - loss: 0.6932 - accuracy: 0.1797\n",
            "Epoch 5/10\n",
            "42/42 [==============================] - 1s 32ms/step - loss: 0.6932 - accuracy: 0.1838\n",
            "Epoch 6/10\n",
            "42/42 [==============================] - 1s 31ms/step - loss: 0.6931 - accuracy: 0.1746\n",
            "Epoch 7/10\n",
            "42/42 [==============================] - 1s 34ms/step - loss: 0.6931 - accuracy: 0.1734\n",
            "Epoch 8/10\n",
            "42/42 [==============================] - 1s 31ms/step - loss: 0.6931 - accuracy: 0.1739\n",
            "Epoch 9/10\n",
            "42/42 [==============================] - 1s 34ms/step - loss: 0.6931 - accuracy: 0.1816\n",
            "Epoch 10/10\n",
            "42/42 [==============================] - 1s 31ms/step - loss: 0.6931 - accuracy: 0.1763\n",
            "Model: \"sequential_4\"\n",
            "_________________________________________________________________\n",
            " Layer (type)                Output Shape              Param #   \n",
            "=================================================================\n",
            " dense_8 (Dense)             (None, 16)                2408464   \n",
            "                                                                 \n",
            " dropout_3 (Dropout)         (None, 16)                0         \n",
            "                                                                 \n",
            " dense_9 (Dense)             (None, 32)                544       \n",
            "                                                                 \n",
            " dropout_4 (Dropout)         (None, 32)                0         \n",
            "                                                                 \n",
            " dense_10 (Dense)            (None, 2)                 66        \n",
            "                                                                 \n",
            " flatten_4 (Flatten)         (None, 2)                 0         \n",
            "                                                                 \n",
            "=================================================================\n",
            "Total params: 2,409,074\n",
            "Trainable params: 2,409,074\n",
            "Non-trainable params: 0\n",
            "_________________________________________________________________\n"
          ]
        }
      ]
    },
    {
      "cell_type": "code",
      "source": [
        "StartTime=time.time()\n",
        "# model will predict an array of probabilites for each label\n",
        "# the max prob will give us the most likely label for that image\n",
        "y_result = model_ann.predict(x_test)\n",
        "y_pred = []\n",
        "for arr in y_result:\n",
        "  indices = np.where(arr == np.amax(arr))\n",
        "  y_pred.append(indices[0][0])\n",
        "y_pred = np.array(y_pred)\n",
        "\n",
        "EndTime=time.time()\n",
        "print(\"Total test time taken \",round((EndTime-StartTime)),'seconds ####')\n",
        "print(f\"ANN is {accuracy_score(y_pred,y_test)*100}% accurate\")"
      ],
      "metadata": {
        "id": "4clowpdT6eno",
        "outputId": "5861c15e-26f4-4671-ab04-527c01d2deaa",
        "colab": {
          "base_uri": "https://localhost:8080/"
        }
      },
      "execution_count": 41,
      "outputs": [
        {
          "output_type": "stream",
          "name": "stdout",
          "text": [
            "33/33 [==============================] - 0s 11ms/step\n",
            "Total test time taken  1 seconds ####\n",
            "ANN is 19.825918762088975% accurate\n"
          ]
        }
      ]
    },
    {
      "cell_type": "code",
      "source": [
        "plot_model(model_ann,\n",
        "           to_file=\"model.png\",\n",
        "           show_shapes=True,\n",
        "           show_layer_names=True,\n",
        "          )"
      ],
      "metadata": {
        "id": "GEW9YiFD6elB",
        "outputId": "d0914d8e-5eb8-49f6-c141-b6f33ee43afd",
        "colab": {
          "base_uri": "https://localhost:8080/",
          "height": 754
        }
      },
      "execution_count": 36,
      "outputs": [
        {
          "output_type": "execute_result",
          "data": {
            "image/png": "[encoded data removed]",
            "text/plain": [
              "<IPython.core.display.Image object>"
            ]
          },
          "metadata": {},
          "execution_count": 36
        }
      ]
    },
    {
      "cell_type": "markdown",
      "source": [
        "# Making Predictions from lazypredict"
      ],
      "metadata": {
        "id": "AxPjKBKG6qMS"
      }
    },
    {
      "cell_type": "code",
      "source": [
        "!pip install lazypredict"
      ],
      "metadata": {
        "id": "aCBzpUnm6eiM",
        "outputId": "3767d281-2626-4c76-a1fb-3c9bdc728a88",
        "colab": {
          "base_uri": "https://localhost:8080/"
        }
      },
      "execution_count": 37,
      "outputs": [
        {
          "output_type": "stream",
          "name": "stdout",
          "text": [
            "Looking in indexes: https://pypi.org/simple, https://us-python.pkg.dev/colab-wheels/public/simple/\n",
            "Collecting lazypredict\n",
            "  Downloading lazypredict-0.2.12-py2.py3-none-any.whl (12 kB)\n",
            "Requirement already satisfied: xgboost in /usr/local/lib/python3.7/dist-packages (from lazypredict) (0.90)\n",
            "Requirement already satisfied: click in /usr/local/lib/python3.7/dist-packages (from lazypredict) (7.1.2)\n",
            "Requirement already satisfied: joblib in /usr/local/lib/python3.7/dist-packages (from lazypredict) (1.2.0)\n",
            "Requirement already satisfied: pandas in /usr/local/lib/python3.7/dist-packages (from lazypredict) (1.3.5)\n",
            "Requirement already satisfied: tqdm in /usr/local/lib/python3.7/dist-packages (from lazypredict) (4.64.1)\n",
            "Requirement already satisfied: scikit-learn in /usr/local/lib/python3.7/dist-packages (from lazypredict) (1.0.2)\n",
            "Requirement already satisfied: lightgbm in /usr/local/lib/python3.7/dist-packages (from lazypredict) (2.2.3)\n",
            "Requirement already satisfied: scipy in /usr/local/lib/python3.7/dist-packages (from lightgbm->lazypredict) (1.7.3)\n",
            "Requirement already satisfied: numpy in /usr/local/lib/python3.7/dist-packages (from lightgbm->lazypredict) (1.21.6)\n",
            "Requirement already satisfied: python-dateutil>=2.7.3 in /usr/local/lib/python3.7/dist-packages (from pandas->lazypredict) (2.8.2)\n",
            "Requirement already satisfied: pytz>=2017.3 in /usr/local/lib/python3.7/dist-packages (from pandas->lazypredict) (2022.6)\n",
            "Requirement already satisfied: six>=1.5 in /usr/local/lib/python3.7/dist-packages (from python-dateutil>=2.7.3->pandas->lazypredict) (1.15.0)\n",
            "Requirement already satisfied: threadpoolctl>=2.0.0 in /usr/local/lib/python3.7/dist-packages (from scikit-learn->lazypredict) (3.1.0)\n",
            "Installing collected packages: lazypredict\n",
            "Successfully installed lazypredict-0.2.12\n"
          ]
        }
      ]
    },
    {
      "cell_type": "code",
      "source": [],
      "metadata": {
        "id": "V0opOQnHOfjo"
      },
      "execution_count": null,
      "outputs": []
    }
  ],
  "metadata": {
    "colab": {
      "name": "Making the Most of your Colab Subscription",
      "provenance": []
    },
    "kernelspec": {
      "display_name": "Python 3",
      "name": "python3"
    },
    "accelerator": "GPU",
    "gpuClass": "premium",
    "widgets": {
      "application/vnd.jupyter.widget-state+json": {
        "86fa5aabef614b55937d383a48e35c07": {
          "model_module": "@jupyter-widgets/controls",
          "model_name": "HBoxModel",
          "model_module_version": "1.5.0",
          "state": {
            "_dom_classes": [],
            "_model_module": "@jupyter-widgets/controls",
            "_model_module_version": "1.5.0",
            "_model_name": "HBoxModel",
            "_view_count": null,
            "_view_module": "@jupyter-widgets/controls",
            "_view_module_version": "1.5.0",
            "_view_name": "HBoxView",
            "box_style": "",
            "children": [
              "IPY_MODEL_8b10467ca15f42a38c2313ced8d482a7",
              "IPY_MODEL_eb014668cc6044c89541b4555d1b3ea0",
              "IPY_MODEL_4379e75b6eb046268a4be9d1ef183237"
            ],
            "layout": "IPY_MODEL_89ff27d80b5a43c190e37fd19b4c7830"
          }
        },
        "8b10467ca15f42a38c2313ced8d482a7": {
          "model_module": "@jupyter-widgets/controls",
          "model_name": "HTMLModel",
          "model_module_version": "1.5.0",
          "state": {
            "_dom_classes": [],
            "_model_module": "@jupyter-widgets/controls",
            "_model_module_version": "1.5.0",
            "_model_name": "HTMLModel",
            "_view_count": null,
            "_view_module": "@jupyter-widgets/controls",
            "_view_module_version": "1.5.0",
            "_view_name": "HTMLView",
            "description": "",
            "description_tooltip": null,
            "layout": "IPY_MODEL_880d72973a4a43c892fcb9fe57da52da",
            "placeholder": "​",
            "style": "IPY_MODEL_2ac8840820a149089edad5aecd55105e",
            "value": "100%"
          }
        },
        "eb014668cc6044c89541b4555d1b3ea0": {
          "model_module": "@jupyter-widgets/controls",
          "model_name": "FloatProgressModel",
          "model_module_version": "1.5.0",
          "state": {
            "_dom_classes": [],
            "_model_module": "@jupyter-widgets/controls",
            "_model_module_version": "1.5.0",
            "_model_name": "FloatProgressModel",
            "_view_count": null,
            "_view_module": "@jupyter-widgets/controls",
            "_view_module_version": "1.5.0",
            "_view_name": "ProgressView",
            "bar_style": "success",
            "description": "",
            "description_tooltip": null,
            "layout": "IPY_MODEL_db2f011da1654de089dd8de5cf8df259",
            "max": 100,
            "min": 0,
            "orientation": "horizontal",
            "style": "IPY_MODEL_9734966ec45246c9b3e5de2dc18024f3",
            "value": 100
          }
        },
        "4379e75b6eb046268a4be9d1ef183237": {
          "model_module": "@jupyter-widgets/controls",
          "model_name": "HTMLModel",
          "model_module_version": "1.5.0",
          "state": {
            "_dom_classes": [],
            "_model_module": "@jupyter-widgets/controls",
            "_model_module_version": "1.5.0",
            "_model_name": "HTMLModel",
            "_view_count": null,
            "_view_module": "@jupyter-widgets/controls",
            "_view_module_version": "1.5.0",
            "_view_name": "HTMLView",
            "description": "",
            "description_tooltip": null,
            "layout": "IPY_MODEL_dac1193ab9ea422aadff3054a74704ce",
            "placeholder": "​",
            "style": "IPY_MODEL_84c1374bf1174d69b969082f2b5e144a",
            "value": " 100/100 [00:30&lt;00:00,  3.57epoch/s, loss=0.00722, accuracy=0.973, val_loss=0.00119, val_accuracy=0.996]"
          }
        },
        "89ff27d80b5a43c190e37fd19b4c7830": {
          "model_module": "@jupyter-widgets/base",
          "model_name": "LayoutModel",
          "model_module_version": "1.2.0",
          "state": {
            "_model_module": "@jupyter-widgets/base",
            "_model_module_version": "1.2.0",
            "_model_name": "LayoutModel",
            "_view_count": null,
            "_view_module": "@jupyter-widgets/base",
            "_view_module_version": "1.2.0",
            "_view_name": "LayoutView",
            "align_content": null,
            "align_items": null,
            "align_self": null,
            "border": null,
            "bottom": null,
            "display": null,
            "flex": null,
            "flex_flow": null,
            "grid_area": null,
            "grid_auto_columns": null,
            "grid_auto_flow": null,
            "grid_auto_rows": null,
            "grid_column": null,
            "grid_gap": null,
            "grid_row": null,
            "grid_template_areas": null,
            "grid_template_columns": null,
            "grid_template_rows": null,
            "height": null,
            "justify_content": null,
            "justify_items": null,
            "left": null,
            "margin": null,
            "max_height": null,
            "max_width": null,
            "min_height": null,
            "min_width": null,
            "object_fit": null,
            "object_position": null,
            "order": null,
            "overflow": null,
            "overflow_x": null,
            "overflow_y": null,
            "padding": null,
            "right": null,
            "top": null,
            "visibility": null,
            "width": null
          }
        },
        "880d72973a4a43c892fcb9fe57da52da": {
          "model_module": "@jupyter-widgets/base",
          "model_name": "LayoutModel",
          "model_module_version": "1.2.0",
          "state": {
            "_model_module": "@jupyter-widgets/base",
            "_model_module_version": "1.2.0",
            "_model_name": "LayoutModel",
            "_view_count": null,
            "_view_module": "@jupyter-widgets/base",
            "_view_module_version": "1.2.0",
            "_view_name": "LayoutView",
            "align_content": null,
            "align_items": null,
            "align_self": null,
            "border": null,
            "bottom": null,
            "display": null,
            "flex": null,
            "flex_flow": null,
            "grid_area": null,
            "grid_auto_columns": null,
            "grid_auto_flow": null,
            "grid_auto_rows": null,
            "grid_column": null,
            "grid_gap": null,
            "grid_row": null,
            "grid_template_areas": null,
            "grid_template_columns": null,
            "grid_template_rows": null,
            "height": null,
            "justify_content": null,
            "justify_items": null,
            "left": null,
            "margin": null,
            "max_height": null,
            "max_width": null,
            "min_height": null,
            "min_width": null,
            "object_fit": null,
            "object_position": null,
            "order": null,
            "overflow": null,
            "overflow_x": null,
            "overflow_y": null,
            "padding": null,
            "right": null,
            "top": null,
            "visibility": null,
            "width": null
          }
        },
        "2ac8840820a149089edad5aecd55105e": {
          "model_module": "@jupyter-widgets/controls",
          "model_name": "DescriptionStyleModel",
          "model_module_version": "1.5.0",
          "state": {
            "_model_module": "@jupyter-widgets/controls",
            "_model_module_version": "1.5.0",
            "_model_name": "DescriptionStyleModel",
            "_view_count": null,
            "_view_module": "@jupyter-widgets/base",
            "_view_module_version": "1.2.0",
            "_view_name": "StyleView",
            "description_width": ""
          }
        },
        "db2f011da1654de089dd8de5cf8df259": {
          "model_module": "@jupyter-widgets/base",
          "model_name": "LayoutModel",
          "model_module_version": "1.2.0",
          "state": {
            "_model_module": "@jupyter-widgets/base",
            "_model_module_version": "1.2.0",
            "_model_name": "LayoutModel",
            "_view_count": null,
            "_view_module": "@jupyter-widgets/base",
            "_view_module_version": "1.2.0",
            "_view_name": "LayoutView",
            "align_content": null,
            "align_items": null,
            "align_self": null,
            "border": null,
            "bottom": null,
            "display": null,
            "flex": null,
            "flex_flow": null,
            "grid_area": null,
            "grid_auto_columns": null,
            "grid_auto_flow": null,
            "grid_auto_rows": null,
            "grid_column": null,
            "grid_gap": null,
            "grid_row": null,
            "grid_template_areas": null,
            "grid_template_columns": null,
            "grid_template_rows": null,
            "height": null,
            "justify_content": null,
            "justify_items": null,
            "left": null,
            "margin": null,
            "max_height": null,
            "max_width": null,
            "min_height": null,
            "min_width": null,
            "object_fit": null,
            "object_position": null,
            "order": null,
            "overflow": null,
            "overflow_x": null,
            "overflow_y": null,
            "padding": null,
            "right": null,
            "top": null,
            "visibility": null,
            "width": null
          }
        },
        "9734966ec45246c9b3e5de2dc18024f3": {
          "model_module": "@jupyter-widgets/controls",
          "model_name": "ProgressStyleModel",
          "model_module_version": "1.5.0",
          "state": {
            "_model_module": "@jupyter-widgets/controls",
            "_model_module_version": "1.5.0",
            "_model_name": "ProgressStyleModel",
            "_view_count": null,
            "_view_module": "@jupyter-widgets/base",
            "_view_module_version": "1.2.0",
            "_view_name": "StyleView",
            "bar_color": null,
            "description_width": ""
          }
        },
        "dac1193ab9ea422aadff3054a74704ce": {
          "model_module": "@jupyter-widgets/base",
          "model_name": "LayoutModel",
          "model_module_version": "1.2.0",
          "state": {
            "_model_module": "@jupyter-widgets/base",
            "_model_module_version": "1.2.0",
            "_model_name": "LayoutModel",
            "_view_count": null,
            "_view_module": "@jupyter-widgets/base",
            "_view_module_version": "1.2.0",
            "_view_name": "LayoutView",
            "align_content": null,
            "align_items": null,
            "align_self": null,
            "border": null,
            "bottom": null,
            "display": null,
            "flex": null,
            "flex_flow": null,
            "grid_area": null,
            "grid_auto_columns": null,
            "grid_auto_flow": null,
            "grid_auto_rows": null,
            "grid_column": null,
            "grid_gap": null,
            "grid_row": null,
            "grid_template_areas": null,
            "grid_template_columns": null,
            "grid_template_rows": null,
            "height": null,
            "justify_content": null,
            "justify_items": null,
            "left": null,
            "margin": null,
            "max_height": null,
            "max_width": null,
            "min_height": null,
            "min_width": null,
            "object_fit": null,
            "object_position": null,
            "order": null,
            "overflow": null,
            "overflow_x": null,
            "overflow_y": null,
            "padding": null,
            "right": null,
            "top": null,
            "visibility": null,
            "width": null
          }
        },
        "84c1374bf1174d69b969082f2b5e144a": {
          "model_module": "@jupyter-widgets/controls",
          "model_name": "DescriptionStyleModel",
          "model_module_version": "1.5.0",
          "state": {
            "_model_module": "@jupyter-widgets/controls",
            "_model_module_version": "1.5.0",
            "_model_name": "DescriptionStyleModel",
            "_view_count": null,
            "_view_module": "@jupyter-widgets/base",
            "_view_module_version": "1.2.0",
            "_view_name": "StyleView",
            "description_width": ""
          }
        },
        "f7f277b4db9c486fb0060241aaa8d6fa": {
          "model_module": "@jupyter-widgets/controls",
          "model_name": "HBoxModel",
          "model_module_version": "1.5.0",
          "state": {
            "_dom_classes": [],
            "_model_module": "@jupyter-widgets/controls",
            "_model_module_version": "1.5.0",
            "_model_name": "HBoxModel",
            "_view_count": null,
            "_view_module": "@jupyter-widgets/controls",
            "_view_module_version": "1.5.0",
            "_view_name": "HBoxView",
            "box_style": "",
            "children": [
              "IPY_MODEL_30ba253c8390468f84579a6dffc8d817",
              "IPY_MODEL_3470860de5ca442fbc31d8f66f986c43",
              "IPY_MODEL_00fc576cb7cf406db60a97abcbc88d17"
            ],
            "layout": "IPY_MODEL_e93962c54f3748ba89aba6dcf2420e80"
          }
        },
        "30ba253c8390468f84579a6dffc8d817": {
          "model_module": "@jupyter-widgets/controls",
          "model_name": "HTMLModel",
          "model_module_version": "1.5.0",
          "state": {
            "_dom_classes": [],
            "_model_module": "@jupyter-widgets/controls",
            "_model_module_version": "1.5.0",
            "_model_name": "HTMLModel",
            "_view_count": null,
            "_view_module": "@jupyter-widgets/controls",
            "_view_module_version": "1.5.0",
            "_view_name": "HTMLView",
            "description": "",
            "description_tooltip": null,
            "layout": "IPY_MODEL_83330a3bf6dc4d63b85440b4a9ead40d",
            "placeholder": "​",
            "style": "IPY_MODEL_a821e2de93dc40eca3f958e42ec5fbb8",
            "value": " 90%"
          }
        },
        "3470860de5ca442fbc31d8f66f986c43": {
          "model_module": "@jupyter-widgets/controls",
          "model_name": "FloatProgressModel",
          "model_module_version": "1.5.0",
          "state": {
            "_dom_classes": [],
            "_model_module": "@jupyter-widgets/controls",
            "_model_module_version": "1.5.0",
            "_model_name": "FloatProgressModel",
            "_view_count": null,
            "_view_module": "@jupyter-widgets/controls",
            "_view_module_version": "1.5.0",
            "_view_name": "ProgressView",
            "bar_style": "",
            "description": "",
            "description_tooltip": null,
            "layout": "IPY_MODEL_0ed9172cd207439eaa5667387b3722c2",
            "max": 42,
            "min": 0,
            "orientation": "horizontal",
            "style": "IPY_MODEL_6b57100f0d124b24ab27c815d8f9e9f8",
            "value": 42
          }
        },
        "00fc576cb7cf406db60a97abcbc88d17": {
          "model_module": "@jupyter-widgets/controls",
          "model_name": "HTMLModel",
          "model_module_version": "1.5.0",
          "state": {
            "_dom_classes": [],
            "_model_module": "@jupyter-widgets/controls",
            "_model_module_version": "1.5.0",
            "_model_name": "HTMLModel",
            "_view_count": null,
            "_view_module": "@jupyter-widgets/controls",
            "_view_module_version": "1.5.0",
            "_view_name": "HTMLView",
            "description": "",
            "description_tooltip": null,
            "layout": "IPY_MODEL_cfa570a47920438bb8e2ac69ed267488",
            "placeholder": "​",
            "style": "IPY_MODEL_da0dbbdf48c9470babef6724832c4d5c",
            "value": " 38.0/42.0 [00:00&lt;00:00, 184batch/s, loss=0.00721, accuracy=0.973]"
          }
        },
        "e93962c54f3748ba89aba6dcf2420e80": {
          "model_module": "@jupyter-widgets/base",
          "model_name": "LayoutModel",
          "model_module_version": "1.2.0",
          "state": {
            "_model_module": "@jupyter-widgets/base",
            "_model_module_version": "1.2.0",
            "_model_name": "LayoutModel",
            "_view_count": null,
            "_view_module": "@jupyter-widgets/base",
            "_view_module_version": "1.2.0",
            "_view_name": "LayoutView",
            "align_content": null,
            "align_items": null,
            "align_self": null,
            "border": null,
            "bottom": null,
            "display": null,
            "flex": null,
            "flex_flow": null,
            "grid_area": null,
            "grid_auto_columns": null,
            "grid_auto_flow": null,
            "grid_auto_rows": null,
            "grid_column": null,
            "grid_gap": null,
            "grid_row": null,
            "grid_template_areas": null,
            "grid_template_columns": null,
            "grid_template_rows": null,
            "height": null,
            "justify_content": null,
            "justify_items": null,
            "left": null,
            "margin": null,
            "max_height": null,
            "max_width": null,
            "min_height": null,
            "min_width": null,
            "object_fit": null,
            "object_position": null,
            "order": null,
            "overflow": null,
            "overflow_x": null,
            "overflow_y": null,
            "padding": null,
            "right": null,
            "top": null,
            "visibility": "hidden",
            "width": null
          }
        },
        "83330a3bf6dc4d63b85440b4a9ead40d": {
          "model_module": "@jupyter-widgets/base",
          "model_name": "LayoutModel",
          "model_module_version": "1.2.0",
          "state": {
            "_model_module": "@jupyter-widgets/base",
            "_model_module_version": "1.2.0",
            "_model_name": "LayoutModel",
            "_view_count": null,
            "_view_module": "@jupyter-widgets/base",
            "_view_module_version": "1.2.0",
            "_view_name": "LayoutView",
            "align_content": null,
            "align_items": null,
            "align_self": null,
            "border": null,
            "bottom": null,
            "display": null,
            "flex": null,
            "flex_flow": null,
            "grid_area": null,
            "grid_auto_columns": null,
            "grid_auto_flow": null,
            "grid_auto_rows": null,
            "grid_column": null,
            "grid_gap": null,
            "grid_row": null,
            "grid_template_areas": null,
            "grid_template_columns": null,
            "grid_template_rows": null,
            "height": null,
            "justify_content": null,
            "justify_items": null,
            "left": null,
            "margin": null,
            "max_height": null,
            "max_width": null,
            "min_height": null,
            "min_width": null,
            "object_fit": null,
            "object_position": null,
            "order": null,
            "overflow": null,
            "overflow_x": null,
            "overflow_y": null,
            "padding": null,
            "right": null,
            "top": null,
            "visibility": null,
            "width": null
          }
        },
        "a821e2de93dc40eca3f958e42ec5fbb8": {
          "model_module": "@jupyter-widgets/controls",
          "model_name": "DescriptionStyleModel",
          "model_module_version": "1.5.0",
          "state": {
            "_model_module": "@jupyter-widgets/controls",
            "_model_module_version": "1.5.0",
            "_model_name": "DescriptionStyleModel",
            "_view_count": null,
            "_view_module": "@jupyter-widgets/base",
            "_view_module_version": "1.2.0",
            "_view_name": "StyleView",
            "description_width": ""
          }
        },
        "0ed9172cd207439eaa5667387b3722c2": {
          "model_module": "@jupyter-widgets/base",
          "model_name": "LayoutModel",
          "model_module_version": "1.2.0",
          "state": {
            "_model_module": "@jupyter-widgets/base",
            "_model_module_version": "1.2.0",
            "_model_name": "LayoutModel",
            "_view_count": null,
            "_view_module": "@jupyter-widgets/base",
            "_view_module_version": "1.2.0",
            "_view_name": "LayoutView",
            "align_content": null,
            "align_items": null,
            "align_self": null,
            "border": null,
            "bottom": null,
            "display": null,
            "flex": null,
            "flex_flow": null,
            "grid_area": null,
            "grid_auto_columns": null,
            "grid_auto_flow": null,
            "grid_auto_rows": null,
            "grid_column": null,
            "grid_gap": null,
            "grid_row": null,
            "grid_template_areas": null,
            "grid_template_columns": null,
            "grid_template_rows": null,
            "height": null,
            "justify_content": null,
            "justify_items": null,
            "left": null,
            "margin": null,
            "max_height": null,
            "max_width": null,
            "min_height": null,
            "min_width": null,
            "object_fit": null,
            "object_position": null,
            "order": null,
            "overflow": null,
            "overflow_x": null,
            "overflow_y": null,
            "padding": null,
            "right": null,
            "top": null,
            "visibility": null,
            "width": null
          }
        },
        "6b57100f0d124b24ab27c815d8f9e9f8": {
          "model_module": "@jupyter-widgets/controls",
          "model_name": "ProgressStyleModel",
          "model_module_version": "1.5.0",
          "state": {
            "_model_module": "@jupyter-widgets/controls",
            "_model_module_version": "1.5.0",
            "_model_name": "ProgressStyleModel",
            "_view_count": null,
            "_view_module": "@jupyter-widgets/base",
            "_view_module_version": "1.2.0",
            "_view_name": "StyleView",
            "bar_color": null,
            "description_width": ""
          }
        },
        "cfa570a47920438bb8e2ac69ed267488": {
          "model_module": "@jupyter-widgets/base",
          "model_name": "LayoutModel",
          "model_module_version": "1.2.0",
          "state": {
            "_model_module": "@jupyter-widgets/base",
            "_model_module_version": "1.2.0",
            "_model_name": "LayoutModel",
            "_view_count": null,
            "_view_module": "@jupyter-widgets/base",
            "_view_module_version": "1.2.0",
            "_view_name": "LayoutView",
            "align_content": null,
            "align_items": null,
            "align_self": null,
            "border": null,
            "bottom": null,
            "display": null,
            "flex": null,
            "flex_flow": null,
            "grid_area": null,
            "grid_auto_columns": null,
            "grid_auto_flow": null,
            "grid_auto_rows": null,
            "grid_column": null,
            "grid_gap": null,
            "grid_row": null,
            "grid_template_areas": null,
            "grid_template_columns": null,
            "grid_template_rows": null,
            "height": null,
            "justify_content": null,
            "justify_items": null,
            "left": null,
            "margin": null,
            "max_height": null,
            "max_width": null,
            "min_height": null,
            "min_width": null,
            "object_fit": null,
            "object_position": null,
            "order": null,
            "overflow": null,
            "overflow_x": null,
            "overflow_y": null,
            "padding": null,
            "right": null,
            "top": null,
            "visibility": null,
            "width": null
          }
        },
        "da0dbbdf48c9470babef6724832c4d5c": {
          "model_module": "@jupyter-widgets/controls",
          "model_name": "DescriptionStyleModel",
          "model_module_version": "1.5.0",
          "state": {
            "_model_module": "@jupyter-widgets/controls",
            "_model_module_version": "1.5.0",
            "_model_name": "DescriptionStyleModel",
            "_view_count": null,
            "_view_module": "@jupyter-widgets/base",
            "_view_module_version": "1.2.0",
            "_view_name": "StyleView",
            "description_width": ""
          }
        },
        "903d4b33f8ae4b5ca1bd1ee4d59c78da": {
          "model_module": "@jupyter-widgets/controls",
          "model_name": "HBoxModel",
          "model_module_version": "1.5.0",
          "state": {
            "_dom_classes": [],
            "_model_module": "@jupyter-widgets/controls",
            "_model_module_version": "1.5.0",
            "_model_name": "HBoxModel",
            "_view_count": null,
            "_view_module": "@jupyter-widgets/controls",
            "_view_module_version": "1.5.0",
            "_view_name": "HBoxView",
            "box_style": "",
            "children": [
              "IPY_MODEL_e90fa7d5220944eabe5360ee230743ce",
              "IPY_MODEL_882af22e4997459babb91e6b1cfd9840",
              "IPY_MODEL_73f6a35a084a4193b21428eeba6bcdcc"
            ],
            "layout": "IPY_MODEL_fb73c052908f4975a0da5d8718e2f2f7"
          }
        },
        "e90fa7d5220944eabe5360ee230743ce": {
          "model_module": "@jupyter-widgets/controls",
          "model_name": "HTMLModel",
          "model_module_version": "1.5.0",
          "state": {
            "_dom_classes": [],
            "_model_module": "@jupyter-widgets/controls",
            "_model_module_version": "1.5.0",
            "_model_name": "HTMLModel",
            "_view_count": null,
            "_view_module": "@jupyter-widgets/controls",
            "_view_module_version": "1.5.0",
            "_view_name": "HTMLView",
            "description": "",
            "description_tooltip": null,
            "layout": "IPY_MODEL_39b7f3dce39547d788adc3fd04fedc07",
            "placeholder": "​",
            "style": "IPY_MODEL_67e807c5f2a448048d0a3eef64b6fded",
            "value": "100%"
          }
        },
        "882af22e4997459babb91e6b1cfd9840": {
          "model_module": "@jupyter-widgets/controls",
          "model_name": "FloatProgressModel",
          "model_module_version": "1.5.0",
          "state": {
            "_dom_classes": [],
            "_model_module": "@jupyter-widgets/controls",
            "_model_module_version": "1.5.0",
            "_model_name": "FloatProgressModel",
            "_view_count": null,
            "_view_module": "@jupyter-widgets/controls",
            "_view_module_version": "1.5.0",
            "_view_name": "ProgressView",
            "bar_style": "success",
            "description": "",
            "description_tooltip": null,
            "layout": "IPY_MODEL_e7883c9498f44863874d909c2a12b52e",
            "max": 100,
            "min": 0,
            "orientation": "horizontal",
            "style": "IPY_MODEL_8131d9ce01e14a48b20e842fd4663df2",
            "value": 100
          }
        },
        "73f6a35a084a4193b21428eeba6bcdcc": {
          "model_module": "@jupyter-widgets/controls",
          "model_name": "HTMLModel",
          "model_module_version": "1.5.0",
          "state": {
            "_dom_classes": [],
            "_model_module": "@jupyter-widgets/controls",
            "_model_module_version": "1.5.0",
            "_model_name": "HTMLModel",
            "_view_count": null,
            "_view_module": "@jupyter-widgets/controls",
            "_view_module_version": "1.5.0",
            "_view_name": "HTMLView",
            "description": "",
            "description_tooltip": null,
            "layout": "IPY_MODEL_daa43fae203c4b948c9e9d994b15d07b",
            "placeholder": "​",
            "style": "IPY_MODEL_27ef683919c74703beb725fd079e30b2",
            "value": " 100/100 [01:40&lt;00:00,  1.01epoch/s, loss=5.71e-8, accuracy=1]"
          }
        },
        "fb73c052908f4975a0da5d8718e2f2f7": {
          "model_module": "@jupyter-widgets/base",
          "model_name": "LayoutModel",
          "model_module_version": "1.2.0",
          "state": {
            "_model_module": "@jupyter-widgets/base",
            "_model_module_version": "1.2.0",
            "_model_name": "LayoutModel",
            "_view_count": null,
            "_view_module": "@jupyter-widgets/base",
            "_view_module_version": "1.2.0",
            "_view_name": "LayoutView",
            "align_content": null,
            "align_items": null,
            "align_self": null,
            "border": null,
            "bottom": null,
            "display": null,
            "flex": null,
            "flex_flow": null,
            "grid_area": null,
            "grid_auto_columns": null,
            "grid_auto_flow": null,
            "grid_auto_rows": null,
            "grid_column": null,
            "grid_gap": null,
            "grid_row": null,
            "grid_template_areas": null,
            "grid_template_columns": null,
            "grid_template_rows": null,
            "height": null,
            "justify_content": null,
            "justify_items": null,
            "left": null,
            "margin": null,
            "max_height": null,
            "max_width": null,
            "min_height": null,
            "min_width": null,
            "object_fit": null,
            "object_position": null,
            "order": null,
            "overflow": null,
            "overflow_x": null,
            "overflow_y": null,
            "padding": null,
            "right": null,
            "top": null,
            "visibility": null,
            "width": null
          }
        },
        "39b7f3dce39547d788adc3fd04fedc07": {
          "model_module": "@jupyter-widgets/base",
          "model_name": "LayoutModel",
          "model_module_version": "1.2.0",
          "state": {
            "_model_module": "@jupyter-widgets/base",
            "_model_module_version": "1.2.0",
            "_model_name": "LayoutModel",
            "_view_count": null,
            "_view_module": "@jupyter-widgets/base",
            "_view_module_version": "1.2.0",
            "_view_name": "LayoutView",
            "align_content": null,
            "align_items": null,
            "align_self": null,
            "border": null,
            "bottom": null,
            "display": null,
            "flex": null,
            "flex_flow": null,
            "grid_area": null,
            "grid_auto_columns": null,
            "grid_auto_flow": null,
            "grid_auto_rows": null,
            "grid_column": null,
            "grid_gap": null,
            "grid_row": null,
            "grid_template_areas": null,
            "grid_template_columns": null,
            "grid_template_rows": null,
            "height": null,
            "justify_content": null,
            "justify_items": null,
            "left": null,
            "margin": null,
            "max_height": null,
            "max_width": null,
            "min_height": null,
            "min_width": null,
            "object_fit": null,
            "object_position": null,
            "order": null,
            "overflow": null,
            "overflow_x": null,
            "overflow_y": null,
            "padding": null,
            "right": null,
            "top": null,
            "visibility": null,
            "width": null
          }
        },
        "67e807c5f2a448048d0a3eef64b6fded": {
          "model_module": "@jupyter-widgets/controls",
          "model_name": "DescriptionStyleModel",
          "model_module_version": "1.5.0",
          "state": {
            "_model_module": "@jupyter-widgets/controls",
            "_model_module_version": "1.5.0",
            "_model_name": "DescriptionStyleModel",
            "_view_count": null,
            "_view_module": "@jupyter-widgets/base",
            "_view_module_version": "1.2.0",
            "_view_name": "StyleView",
            "description_width": ""
          }
        },
        "e7883c9498f44863874d909c2a12b52e": {
          "model_module": "@jupyter-widgets/base",
          "model_name": "LayoutModel",
          "model_module_version": "1.2.0",
          "state": {
            "_model_module": "@jupyter-widgets/base",
            "_model_module_version": "1.2.0",
            "_model_name": "LayoutModel",
            "_view_count": null,
            "_view_module": "@jupyter-widgets/base",
            "_view_module_version": "1.2.0",
            "_view_name": "LayoutView",
            "align_content": null,
            "align_items": null,
            "align_self": null,
            "border": null,
            "bottom": null,
            "display": null,
            "flex": null,
            "flex_flow": null,
            "grid_area": null,
            "grid_auto_columns": null,
            "grid_auto_flow": null,
            "grid_auto_rows": null,
            "grid_column": null,
            "grid_gap": null,
            "grid_row": null,
            "grid_template_areas": null,
            "grid_template_columns": null,
            "grid_template_rows": null,
            "height": null,
            "justify_content": null,
            "justify_items": null,
            "left": null,
            "margin": null,
            "max_height": null,
            "max_width": null,
            "min_height": null,
            "min_width": null,
            "object_fit": null,
            "object_position": null,
            "order": null,
            "overflow": null,
            "overflow_x": null,
            "overflow_y": null,
            "padding": null,
            "right": null,
            "top": null,
            "visibility": null,
            "width": null
          }
        },
        "8131d9ce01e14a48b20e842fd4663df2": {
          "model_module": "@jupyter-widgets/controls",
          "model_name": "ProgressStyleModel",
          "model_module_version": "1.5.0",
          "state": {
            "_model_module": "@jupyter-widgets/controls",
            "_model_module_version": "1.5.0",
            "_model_name": "ProgressStyleModel",
            "_view_count": null,
            "_view_module": "@jupyter-widgets/base",
            "_view_module_version": "1.2.0",
            "_view_name": "StyleView",
            "bar_color": null,
            "description_width": ""
          }
        },
        "daa43fae203c4b948c9e9d994b15d07b": {
          "model_module": "@jupyter-widgets/base",
          "model_name": "LayoutModel",
          "model_module_version": "1.2.0",
          "state": {
            "_model_module": "@jupyter-widgets/base",
            "_model_module_version": "1.2.0",
            "_model_name": "LayoutModel",
            "_view_count": null,
            "_view_module": "@jupyter-widgets/base",
            "_view_module_version": "1.2.0",
            "_view_name": "LayoutView",
            "align_content": null,
            "align_items": null,
            "align_self": null,
            "border": null,
            "bottom": null,
            "display": null,
            "flex": null,
            "flex_flow": null,
            "grid_area": null,
            "grid_auto_columns": null,
            "grid_auto_flow": null,
            "grid_auto_rows": null,
            "grid_column": null,
            "grid_gap": null,
            "grid_row": null,
            "grid_template_areas": null,
            "grid_template_columns": null,
            "grid_template_rows": null,
            "height": null,
            "justify_content": null,
            "justify_items": null,
            "left": null,
            "margin": null,
            "max_height": null,
            "max_width": null,
            "min_height": null,
            "min_width": null,
            "object_fit": null,
            "object_position": null,
            "order": null,
            "overflow": null,
            "overflow_x": null,
            "overflow_y": null,
            "padding": null,
            "right": null,
            "top": null,
            "visibility": null,
            "width": null
          }
        },
        "27ef683919c74703beb725fd079e30b2": {
          "model_module": "@jupyter-widgets/controls",
          "model_name": "DescriptionStyleModel",
          "model_module_version": "1.5.0",
          "state": {
            "_model_module": "@jupyter-widgets/controls",
            "_model_module_version": "1.5.0",
            "_model_name": "DescriptionStyleModel",
            "_view_count": null,
            "_view_module": "@jupyter-widgets/base",
            "_view_module_version": "1.2.0",
            "_view_name": "StyleView",
            "description_width": ""
          }
        },
        "c97e640ae1584178855842c1a99fd50c": {
          "model_module": "@jupyter-widgets/controls",
          "model_name": "HBoxModel",
          "model_module_version": "1.5.0",
          "state": {
            "_dom_classes": [],
            "_model_module": "@jupyter-widgets/controls",
            "_model_module_version": "1.5.0",
            "_model_name": "HBoxModel",
            "_view_count": null,
            "_view_module": "@jupyter-widgets/controls",
            "_view_module_version": "1.5.0",
            "_view_name": "HBoxView",
            "box_style": "",
            "children": [
              "IPY_MODEL_ef6ef1d5014445359f24ff77272a6e36",
              "IPY_MODEL_379521211bbe4c078135b298be0382db",
              "IPY_MODEL_33e87d88a96b4410b51781ccee37b812"
            ],
            "layout": "IPY_MODEL_6e51c492c910494abd5f37f5388f9782"
          }
        },
        "ef6ef1d5014445359f24ff77272a6e36": {
          "model_module": "@jupyter-widgets/controls",
          "model_name": "HTMLModel",
          "model_module_version": "1.5.0",
          "state": {
            "_dom_classes": [],
            "_model_module": "@jupyter-widgets/controls",
            "_model_module_version": "1.5.0",
            "_model_name": "HTMLModel",
            "_view_count": null,
            "_view_module": "@jupyter-widgets/controls",
            "_view_module_version": "1.5.0",
            "_view_name": "HTMLView",
            "description": "",
            "description_tooltip": null,
            "layout": "IPY_MODEL_9f0048f0c61d41588bd877bd58578236",
            "placeholder": "​",
            "style": "IPY_MODEL_9756324909114dba8ec25409e894f619",
            "value": " 95%"
          }
        },
        "379521211bbe4c078135b298be0382db": {
          "model_module": "@jupyter-widgets/controls",
          "model_name": "FloatProgressModel",
          "model_module_version": "1.5.0",
          "state": {
            "_dom_classes": [],
            "_model_module": "@jupyter-widgets/controls",
            "_model_module_version": "1.5.0",
            "_model_name": "FloatProgressModel",
            "_view_count": null,
            "_view_module": "@jupyter-widgets/controls",
            "_view_module_version": "1.5.0",
            "_view_name": "ProgressView",
            "bar_style": "",
            "description": "",
            "description_tooltip": null,
            "layout": "IPY_MODEL_ce23ad2ae23a45d49b15a9189afc6172",
            "max": 42,
            "min": 0,
            "orientation": "horizontal",
            "style": "IPY_MODEL_8ca3f1dcaab54ddf971b3cbf21f48d54",
            "value": 42
          }
        },
        "33e87d88a96b4410b51781ccee37b812": {
          "model_module": "@jupyter-widgets/controls",
          "model_name": "HTMLModel",
          "model_module_version": "1.5.0",
          "state": {
            "_dom_classes": [],
            "_model_module": "@jupyter-widgets/controls",
            "_model_module_version": "1.5.0",
            "_model_name": "HTMLModel",
            "_view_count": null,
            "_view_module": "@jupyter-widgets/controls",
            "_view_module_version": "1.5.0",
            "_view_name": "HTMLView",
            "description": "",
            "description_tooltip": null,
            "layout": "IPY_MODEL_1a440fb2d6264b88bb6aab82c0478f26",
            "placeholder": "​",
            "style": "IPY_MODEL_ec9950611aa3424eb231f3edd6557b26",
            "value": " 40.0/42.0 [00:00&lt;00:00, 43.7batch/s, loss=5.81e-8, accuracy=1]"
          }
        },
        "6e51c492c910494abd5f37f5388f9782": {
          "model_module": "@jupyter-widgets/base",
          "model_name": "LayoutModel",
          "model_module_version": "1.2.0",
          "state": {
            "_model_module": "@jupyter-widgets/base",
            "_model_module_version": "1.2.0",
            "_model_name": "LayoutModel",
            "_view_count": null,
            "_view_module": "@jupyter-widgets/base",
            "_view_module_version": "1.2.0",
            "_view_name": "LayoutView",
            "align_content": null,
            "align_items": null,
            "align_self": null,
            "border": null,
            "bottom": null,
            "display": null,
            "flex": null,
            "flex_flow": null,
            "grid_area": null,
            "grid_auto_columns": null,
            "grid_auto_flow": null,
            "grid_auto_rows": null,
            "grid_column": null,
            "grid_gap": null,
            "grid_row": null,
            "grid_template_areas": null,
            "grid_template_columns": null,
            "grid_template_rows": null,
            "height": null,
            "justify_content": null,
            "justify_items": null,
            "left": null,
            "margin": null,
            "max_height": null,
            "max_width": null,
            "min_height": null,
            "min_width": null,
            "object_fit": null,
            "object_position": null,
            "order": null,
            "overflow": null,
            "overflow_x": null,
            "overflow_y": null,
            "padding": null,
            "right": null,
            "top": null,
            "visibility": "hidden",
            "width": null
          }
        },
        "9f0048f0c61d41588bd877bd58578236": {
          "model_module": "@jupyter-widgets/base",
          "model_name": "LayoutModel",
          "model_module_version": "1.2.0",
          "state": {
            "_model_module": "@jupyter-widgets/base",
            "_model_module_version": "1.2.0",
            "_model_name": "LayoutModel",
            "_view_count": null,
            "_view_module": "@jupyter-widgets/base",
            "_view_module_version": "1.2.0",
            "_view_name": "LayoutView",
            "align_content": null,
            "align_items": null,
            "align_self": null,
            "border": null,
            "bottom": null,
            "display": null,
            "flex": null,
            "flex_flow": null,
            "grid_area": null,
            "grid_auto_columns": null,
            "grid_auto_flow": null,
            "grid_auto_rows": null,
            "grid_column": null,
            "grid_gap": null,
            "grid_row": null,
            "grid_template_areas": null,
            "grid_template_columns": null,
            "grid_template_rows": null,
            "height": null,
            "justify_content": null,
            "justify_items": null,
            "left": null,
            "margin": null,
            "max_height": null,
            "max_width": null,
            "min_height": null,
            "min_width": null,
            "object_fit": null,
            "object_position": null,
            "order": null,
            "overflow": null,
            "overflow_x": null,
            "overflow_y": null,
            "padding": null,
            "right": null,
            "top": null,
            "visibility": null,
            "width": null
          }
        },
        "9756324909114dba8ec25409e894f619": {
          "model_module": "@jupyter-widgets/controls",
          "model_name": "DescriptionStyleModel",
          "model_module_version": "1.5.0",
          "state": {
            "_model_module": "@jupyter-widgets/controls",
            "_model_module_version": "1.5.0",
            "_model_name": "DescriptionStyleModel",
            "_view_count": null,
            "_view_module": "@jupyter-widgets/base",
            "_view_module_version": "1.2.0",
            "_view_name": "StyleView",
            "description_width": ""
          }
        },
        "ce23ad2ae23a45d49b15a9189afc6172": {
          "model_module": "@jupyter-widgets/base",
          "model_name": "LayoutModel",
          "model_module_version": "1.2.0",
          "state": {
            "_model_module": "@jupyter-widgets/base",
            "_model_module_version": "1.2.0",
            "_model_name": "LayoutModel",
            "_view_count": null,
            "_view_module": "@jupyter-widgets/base",
            "_view_module_version": "1.2.0",
            "_view_name": "LayoutView",
            "align_content": null,
            "align_items": null,
            "align_self": null,
            "border": null,
            "bottom": null,
            "display": null,
            "flex": null,
            "flex_flow": null,
            "grid_area": null,
            "grid_auto_columns": null,
            "grid_auto_flow": null,
            "grid_auto_rows": null,
            "grid_column": null,
            "grid_gap": null,
            "grid_row": null,
            "grid_template_areas": null,
            "grid_template_columns": null,
            "grid_template_rows": null,
            "height": null,
            "justify_content": null,
            "justify_items": null,
            "left": null,
            "margin": null,
            "max_height": null,
            "max_width": null,
            "min_height": null,
            "min_width": null,
            "object_fit": null,
            "object_position": null,
            "order": null,
            "overflow": null,
            "overflow_x": null,
            "overflow_y": null,
            "padding": null,
            "right": null,
            "top": null,
            "visibility": null,
            "width": null
          }
        },
        "8ca3f1dcaab54ddf971b3cbf21f48d54": {
          "model_module": "@jupyter-widgets/controls",
          "model_name": "ProgressStyleModel",
          "model_module_version": "1.5.0",
          "state": {
            "_model_module": "@jupyter-widgets/controls",
            "_model_module_version": "1.5.0",
            "_model_name": "ProgressStyleModel",
            "_view_count": null,
            "_view_module": "@jupyter-widgets/base",
            "_view_module_version": "1.2.0",
            "_view_name": "StyleView",
            "bar_color": null,
            "description_width": ""
          }
        },
        "1a440fb2d6264b88bb6aab82c0478f26": {
          "model_module": "@jupyter-widgets/base",
          "model_name": "LayoutModel",
          "model_module_version": "1.2.0",
          "state": {
            "_model_module": "@jupyter-widgets/base",
            "_model_module_version": "1.2.0",
            "_model_name": "LayoutModel",
            "_view_count": null,
            "_view_module": "@jupyter-widgets/base",
            "_view_module_version": "1.2.0",
            "_view_name": "LayoutView",
            "align_content": null,
            "align_items": null,
            "align_self": null,
            "border": null,
            "bottom": null,
            "display": null,
            "flex": null,
            "flex_flow": null,
            "grid_area": null,
            "grid_auto_columns": null,
            "grid_auto_flow": null,
            "grid_auto_rows": null,
            "grid_column": null,
            "grid_gap": null,
            "grid_row": null,
            "grid_template_areas": null,
            "grid_template_columns": null,
            "grid_template_rows": null,
            "height": null,
            "justify_content": null,
            "justify_items": null,
            "left": null,
            "margin": null,
            "max_height": null,
            "max_width": null,
            "min_height": null,
            "min_width": null,
            "object_fit": null,
            "object_position": null,
            "order": null,
            "overflow": null,
            "overflow_x": null,
            "overflow_y": null,
            "padding": null,
            "right": null,
            "top": null,
            "visibility": null,
            "width": null
          }
        },
        "ec9950611aa3424eb231f3edd6557b26": {
          "model_module": "@jupyter-widgets/controls",
          "model_name": "DescriptionStyleModel",
          "model_module_version": "1.5.0",
          "state": {
            "_model_module": "@jupyter-widgets/controls",
            "_model_module_version": "1.5.0",
            "_model_name": "DescriptionStyleModel",
            "_view_count": null,
            "_view_module": "@jupyter-widgets/base",
            "_view_module_version": "1.2.0",
            "_view_name": "StyleView",
            "description_width": ""
          }
        }
      }
    }
  },
  "nbformat": 4,
  "nbformat_minor": 0
}